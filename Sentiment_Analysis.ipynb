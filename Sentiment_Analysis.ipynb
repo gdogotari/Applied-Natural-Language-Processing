{
  "cells": [
    {
      "cell_type": "markdown",
      "id": "e7c78e44-f773-45e3-ba40-91f9fe125d18",
      "metadata": {
        "id": "e7c78e44-f773-45e3-ba40-91f9fe125d18"
      },
      "source": [
        "# Sentiment Analysis\n",
        "Data file:\n",
        "* https://raw.githubusercontent.com/vjavaly/Baruch-CIS-4120/main/data/IMDB_movie_reviews_5k.csv"
      ]
    },
    {
      "cell_type": "markdown",
      "source": [
        "## Requirements\n",
        "* Load data into dataframe\n",
        "* Perform appropriate text cleaning and text preprocessing\n",
        "* Choose a classification learning algorithm to use for model training\n",
        "* Prepare data for model training\n",
        "* Train model\n",
        "* Display model accuaracy"
      ],
      "metadata": {
        "id": "ZZYiVwbaZGd8"
      },
      "id": "ZZYiVwbaZGd8"
    },
    {
      "cell_type": "code",
      "execution_count": 1,
      "id": "27edc467-3067-4a1e-aac8-3a0f1efb8dcc",
      "metadata": {
        "id": "27edc467-3067-4a1e-aac8-3a0f1efb8dcc",
        "colab": {
          "base_uri": "https://localhost:8080/"
        },
        "outputId": "a11ce40b-6d09-4b2d-bd20-3bc251bcedce"
      },
      "outputs": [
        {
          "output_type": "stream",
          "name": "stdout",
          "text": [
            "Run time: 02/17/24 15:32:09\n"
          ]
        }
      ],
      "source": [
        "from datetime import datetime\n",
        "print(f'Run time: {datetime.now().strftime(\"%D %T\")}')"
      ]
    },
    {
      "cell_type": "markdown",
      "id": "1c48ca78-c098-441e-9df4-26be25d71221",
      "metadata": {
        "id": "1c48ca78-c098-441e-9df4-26be25d71221"
      },
      "source": [
        "### Import libraries"
      ]
    },
    {
      "cell_type": "code",
      "execution_count": 2,
      "id": "741cbc84-c36f-4efa-8685-5b240c664e9e",
      "metadata": {
        "id": "741cbc84-c36f-4efa-8685-5b240c664e9e"
      },
      "outputs": [],
      "source": [
        "import pandas as pd\n",
        "import matplotlib.pyplot as plt\n",
        "import seaborn as sns\n",
        "import re\n",
        "import nltk\n",
        "import string\n",
        "from nltk.corpus import stopwords\n",
        "from nltk.stem import WordNetLemmatizer\n",
        "from wordcloud import WordCloud\n",
        "from sklearn.feature_extraction.text import TfidfVectorizer\n",
        "from sklearn.model_selection import train_test_split\n",
        "from sklearn.naive_bayes import GaussianNB\n",
        "from sklearn.ensemble import RandomForestClassifier\n",
        "from sklearn.ensemble import AdaBoostClassifier\n",
        "from sklearn.metrics import accuracy_score"
      ]
    },
    {
      "cell_type": "code",
      "execution_count": 3,
      "id": "62f3fffb-1dae-40ab-ab92-bf9073e8b554",
      "metadata": {
        "id": "62f3fffb-1dae-40ab-ab92-bf9073e8b554",
        "colab": {
          "base_uri": "https://localhost:8080/"
        },
        "outputId": "77d52871-53e8-4680-9576-aac0d8c73759"
      },
      "outputs": [
        {
          "output_type": "stream",
          "name": "stderr",
          "text": [
            "[nltk_data] Downloading package wordnet to /root/nltk_data...\n",
            "[nltk_data]   Package wordnet is already up-to-date!\n",
            "[nltk_data] Downloading package stopwords to /root/nltk_data...\n",
            "[nltk_data]   Package stopwords is already up-to-date!\n"
          ]
        },
        {
          "output_type": "execute_result",
          "data": {
            "text/plain": [
              "True"
            ]
          },
          "metadata": {},
          "execution_count": 3
        }
      ],
      "source": [
        "nltk.download('wordnet')\n",
        "nltk.download('stopwords')"
      ]
    },
    {
      "cell_type": "markdown",
      "id": "8cedf0b7-0019-43f0-8097-f1cd657d7585",
      "metadata": {
        "id": "8cedf0b7-0019-43f0-8097-f1cd657d7585"
      },
      "source": [
        "### Load data\n",
        "* Independent variable: review\n",
        "* Dependent variable: sentiment"
      ]
    },
    {
      "cell_type": "code",
      "execution_count": 4,
      "id": "511aba63-57ed-4fe7-b1de-81d03e75e5e6",
      "metadata": {
        "id": "511aba63-57ed-4fe7-b1de-81d03e75e5e6"
      },
      "outputs": [],
      "source": [
        "# Load data file 'https://raw.githubusercontent.com/vjavaly/Baruch-CIS-4120/main/data/IMDB_movie_reviews_5k.csv' into dataframe\n",
        "df = pd.read_csv('https://raw.githubusercontent.com/vjavaly/Baruch-CIS-4120/main/data/IMDB_movie_reviews_5k.csv')"
      ]
    },
    {
      "cell_type": "markdown",
      "id": "f7d341a2-d3e3-4bdc-8130-687e89724ca2",
      "metadata": {
        "id": "f7d341a2-d3e3-4bdc-8130-687e89724ca2"
      },
      "source": [
        "### Examine data"
      ]
    },
    {
      "cell_type": "code",
      "source": [
        "pd.set_option('max_colwidth', None)"
      ],
      "metadata": {
        "id": "l-cqZrjge5j6"
      },
      "id": "l-cqZrjge5j6",
      "execution_count": 5,
      "outputs": []
    },
    {
      "cell_type": "code",
      "execution_count": 6,
      "id": "aeb8f9ff-533a-4bd0-bdf0-b04a0530d026",
      "metadata": {
        "id": "aeb8f9ff-533a-4bd0-bdf0-b04a0530d026",
        "colab": {
          "base_uri": "https://localhost:8080/",
          "height": 1000
        },
        "outputId": "ed67d2c4-0873-492f-8fa4-159dec8da72e"
      },
      "outputs": [
        {
          "output_type": "execute_result",
          "data": {
            "text/plain": [
              "                                                                                                                                                                                                                                                                                                                                                                                                                                                                                                                                                                                                                                                                                                                                                                                                                                                                                                                                                                                                                                                                                                                                                                                                                                                                                                                                                                                                                                                                                                                                                                                                                                                                                                                                                                                                                                                                                                                                                                                                                                                                                                                                                                                                                                                                                                                                                                                                                                                                                                                                                                                                                                                                                                                                                                                                                                                                                                                                                                                                                                                                                                                                                                                                                                                                                                                                                                                                                                                                                                                                                                                                                                                                                                                                                                                                                                                                                                                                                                                                                                                                                                                                                                                                                                                                                                                                                                                                                                                                                                                                                                                                                                                                                                                                                                                                                                                                                                                                                                                                                                                                                                                                                                                                                                                                                                                                                                                                                                                                                                                                                                                                                           review  \\\n",
              "0                                                                                                                                                                                                                                                                                                                                                                                                                                                                                                                                                                                                                                                                                                                                                                                                                                                                                                                                                                                                                                                                                                                                                                                                                                                                                                                                                                                                                                                                                                                                                                                                                                                                                                                                                                                                                                                                                                                                                                                                                                                                                                                                                                                                                                                                                                                                                                                                                                                                                                                                                                                                                                                                                                                                                                                                                                                                                                                                                                                                                                                                                                                                                                                                                                                                                                                                                                                                                                                                                                                                                                                                                                                                                                                                                                                                                                                                                                                                                                                                                                                                                                                                                                                                                                                                                                                                                                                                                                                                                                                                                                                                                     Inept, boring, and incoherent supernatural \"thriller\" in which college student Cassie (Melissa Sagemiller) is the constant victim of hallucinations and nightmares after a car accident claims the life of her boyfriend Sean (Casey Affleck).<br /><br />I can't begin to tell you how bad this is...nothing of any importance ever happens nor is there ever any sort of actual entertainment value. I did not like this cast in this particular film - they are all sadly unconvincing (then again, their roles are no good). To promote this as a horror film is a joke. Where are the scares? There's no sense or suspense - there are a few good songs but that's about it.<br /><br />How on Earth did this project get the green light? Writer-director Steve Carpenter has no discernible vision or talent that I can sense. Worst of all, the conclusion really makes the whole movie pointless.<br /><br />The alleged \"killer cut\" that I watched is 86 minutes of pure tedium.<br /><br />1/10   \n",
              "1                                                                                                                                                                                                                                                                                                                                                                                                                                                                                                                                                                                                                                                                                                                                                                                                                                                                                                                                                                                                                                                                                                                                                                                                                                                                                                                                                                                                                                                                                                                                                                                                                                                                                                                                                                                                                                                                                                                                                                                                                                                                                                                                                                                                                                                                                                                                                                                                                                                                                                                                                                                                                                                                                                                                                                                                                                                                                                                                                                                                                                                                                                                                                                                                                                                                                                                                                                                        Jimmy Cagney races by your eyes constantly in this story of a stage-producer who is vigorously struggling against the upcoming \"talking\" movies.<br /><br />This story of love, deceit, women and dancing is presented in such a manner that as a viewer you are never treated to a dull moment. The direction of the mass scenes in the rehearsal rooms was enormously well done. The story never really got lost in this frantic pace.<br /><br />Some parts of the material presented here have become a little dated but that doesn't matter because when you look at this in a 1933 time-frame it is fabulous to watch this next to a lot of the other drags of movies that were released during that time.<br /><br />Jimmy Cagney is a sight for sore eyes in this film, never loosing his composure as the ever-working producer of previews made for the movie theaters as intros. In this way he tries to save his ass from going out of business, he was a broadway producer before he started this. Joan Blondell is fabulous as the neglected love-interest, Nan, she gives such a spirited performance that is so unusual for movies of that time, so cool to watch a woman who is portrayed as a strong woman for a change.<br /><br />The only problem I had with the film were the enormous productions at the end. These were magnificent in itself, beautifully choreographed and wonderfully produced, but they just didn't seem to fit in the story. The only link they have to the main story is that Cagney had to put on 3 previews in 3 days to get a contract and that's what he did. I had a hard time believing that this was what the girls had been rehearsing during the entire movie and that these sets could fit in a movie theater. In this way the \"Sitting On A Backyard Fence\" was much more appropriate to the story.<br /><br />The productions at the end seemed to drag this frantically paced story to a halt and that was not a good thing. I was tired after seeing the first Musical sequence and then I realized there were another two coming up. These sequences got a lot a chuckles from the audience as well.<br /><br />All in all a great film with a sour ending.<br /><br />9/10   \n",
              "2                                                                                                                                                                                                                                                                                                                                                                                                                                                                                                                                                                                                                                                                                                                                                                                                                                                                                                                                                                                                                                                                                                                                                                                                                                                                                                                                                                                                                                                                                                                                                                                                                                                                                                                                                                                                                                                                                                                                                                                                                                                                                                                                                                                                                                                                                                                                                                                                                                                                                                                                                                                                                                                                                                                                                                                                                                                                                                                                                                                                                                                                                                                                                                                                                                                                                                                                                                                                                                                                                                                                                                                                                                                                                                                                                                                                                                                                                                                                                                                                                                                                                                                                                                                                                                                                                                                                                                                                                                                                                                                                                                                                                                                                                                       The most positive points in this film were the credits (text style) and some moments in Ice-T's acting. The story-line; two rival gangs having to fight it out, with the sub-plots of betrayal, power and change are well worn plots but in this case painful(very) to wade through. The decrepit scenery, which added slight believability in places, and questionable lighting, constantly distracted from any interest/identification with the characters (the shine off of the actress's forehead/nose was blinding, not to mention other scenes with the same problem.) Not even half way into the film I wanted to know more about how and why it came about as opposed to what was going on on screen. A disappointment if you have seen Ice-T in other roles. Kudos to other actors/actresses who seemed to get into their roles despite the weak direction; Corrupt's side kick and the other restaurant worker.   \n",
              "3                                                                                                                                                                                                                                                                                                                                                                                                                                                                                                                                                                                                                                                                                                                                                                                                                                                                                                                                                                                                                                                                                                                                                                                                                                                                                                                                                                                                                                                                                                                                                                                                                                                                                                                                                                                                                                                                                                                                                                                                                                                                                                                                                                                                                                                                                                                                                                                                                                                                                                                                                                                                                                                                                                                                                                                                                                                                                                                                                                                                                                                                                                                                                                                                                                                                                                                                                                                                                                                                                                                                                                                                                                                                                                                                                                                                                                                                                                                                                                                                                                                                                                                                                                                                                                                                                                                                                                                                                                                                                                                                                                                                                                                                                                                                                                       Actually one particular person/character isn't \"right there\", but my summary line is referring to the power of the movie. And this is all achieved without any fancy camera moves and/or big production sets, but with a great story and very (believable) and good actors conveying the story (arc).<br /><br />You could call it a companion piece to great japan movies/cinema (such as Tokyo Story etc.), not so much story-wise of course, but more mood-wise! Great acting, nuances in the performances that are truly gems. If you're eager to experience a touching story and want to see a movie touching you emotionally, than this is the one to go. As you have noticed (as with many of my reviews), I'm not getting into the story. There are places here at IMDb where you can look those up, I'm not one to spoiler the story whatsoever!   \n",
              "4  Peter Jacksons version(s) are better films overall from objective point of view. That being said, they are not my favorite screen versions of Lord Of The Rings, and let me explain why. <br /><br />Firstly, the acting of the on-screen characters is just too ordinary and uninspiring with Jackson's LOTR. The whole cast is too run of the mill. \"Are you claiming that those silly cartoon characters of Ralph Bakshi version are better actors than real people?\" one could ask. Well, they are not really silly(save for Hobbits, later about them) and they certainly pack more personality than Jackson's party - even with much more limited dialogue time. And that is because of superior _voice_ acting of the Bakshi's LOTR. Take Aragorn for example. In this version his voice is deep and charismatic with full of authority(Aragorn the lord)and with a seasoned rasp(Aragorn the ranger). This is due to John Hurt's brilliant voice acting. Compare that to Viggo Mortensen's rather high pitched sound with no soul and the duel gets quickly uneven: Hurt beats Mortensen hands down. <br /><br />And then there is Gandalf. Probably the most dominating(and the most popular) character in the whole saga. In this Bakshi version Gandalf(William Squire) is a real wizard. And by that I don't mean he shoots bolts from his fingertips(he does not), but his presence is just captivating. He is a mystical, powerful and can switch from gentle old man to a scary person with ease. Add to that his looks: Tall, old as the ancient oak, beard long as his body, sharp eyes, wizardy hook nose and of course, the classical wizard hat. A Perfect Gandalf, just like in the books. Ian McKellen's Gandalf in the other hand, is simply just too boring. He looks too human, sounds too human, acts too human and wears no hat or wields no sword. Yes a sword. In this Bakshi version Gandalf scores couple of bloody orc kills with his sword(as he did in the books). And those are stylish slow motion kills. Gandalf is not a power to be messed with. And it must be noted, that while I'm sad to say this, the great Christopher Lee didn't bring Saruman alive. Fraser Kerr in this movie did, even with a very limited screen time and lines.<br /><br />Before I move completely to visual aspects of the movie, it must be mentioned that the voice acting and the general presenation of the Orcs are also superior to Jackson's pretendeous bad guys. Bakshi's orcs taunt their enemies(or each other) constantly with growls, screams and nasty language. They are more believable as monsters and are more faithful to the book in my opinion. And finally, the Black Riders - or the Nazgul. Those ultimate bad guys are scary ghosts in this one - not just some riders wearing black. And they speak with haunting voice, which mesmerizes their victim. My favorite scene in the film is when the Nazgul are chasing Frodo near the river. While Peter Jackson couldn't do anything but show the riders simply chasing the party, Bakshi throws in a nightmarish dream with some cool slow motion scenes and thundering sky.<br /><br />But as much I like this film more than Jackson's, the latter are, if only technically, still better. And that is because of some key visuals. As you know Bakshi LOTR features a mixture of animated characters(all hobbits and the main cast) and real actors covered with paint. I don't really have a problem using real people in animation this way, but they just don't fit very well with traditional cartoon figures. This is especially true with humans(Riders of Rohan, tavern people etc.) Orcs are different matter, since they are meant to look very distinctive from other characters. Orcs, while played by humans with animation mix, look far superior to Jacksons version. They have brownish-green skin, shiny red eyes, flat face and pointed teeth. <br /><br />Biggest screw up in this films visuals, howerver, are the Hobbits. While I prefer almost every character in Bakshi version compared to Jackson, the latter has clearly superior Hobbits, in fact they are perfect. With Bakshi you get some irritating and rather poorly drawn humanoid Disney bambies. And you are forced to spend a lot of movie time with them, so be warned. Again, the voice acting is OK with them too, but the actors mouths cannot save the \"immersion damage\" made by these little weasels. Well, I never really liked those halflings anyway. <br /><br />General failures in the Bakshi script are well known. Limited playing time(with limited budget) and a lot of missing scenes. So while this film covers nearly half of the story, it doesn't do it in extensive detail compared to Jackson's version. <br /><br />In a summary the Ralph Bakshi version of LOTR has a superior:<br /><br />-overall atmosphere (it feels more like Middle-Earth) -overall voice acting -music (I really dig the fantasy score by Kont & Rosenman) -Gandalf -Aragorn (One of the John Hurt's finest roles) -King Theoden -Orcs -Black Riders -Elrond (He's not some fairy hippie in this one!)<br /><br />While Jackson version is better:<br /><br />-because it covers the whole story -overall visuals and special effects -Gollum/Smeagol -Balrog -Hobbits<br /><br />Lord of the Rings by Ralph Bakshi, even with it's well known shortcomings, is one of the best animation films ever made and it captures the atmosphere of Tolkien's fantasy world very well, if not perfectly. I'll give it a score of 8½ out of 10.   \n",
              "\n",
              "   sentiment  \n",
              "0          0  \n",
              "1          1  \n",
              "2          0  \n",
              "3          1  \n",
              "4          1  "
            ],
            "text/html": [
              "\n",
              "  <div id=\"df-acaf3223-05c1-4e3f-85d1-24ca814333aa\" class=\"colab-df-container\">\n",
              "    <div>\n",
              "<style scoped>\n",
              "    .dataframe tbody tr th:only-of-type {\n",
              "        vertical-align: middle;\n",
              "    }\n",
              "\n",
              "    .dataframe tbody tr th {\n",
              "        vertical-align: top;\n",
              "    }\n",
              "\n",
              "    .dataframe thead th {\n",
              "        text-align: right;\n",
              "    }\n",
              "</style>\n",
              "<table border=\"1\" class=\"dataframe\">\n",
              "  <thead>\n",
              "    <tr style=\"text-align: right;\">\n",
              "      <th></th>\n",
              "      <th>review</th>\n",
              "      <th>sentiment</th>\n",
              "    </tr>\n",
              "  </thead>\n",
              "  <tbody>\n",
              "    <tr>\n",
              "      <th>0</th>\n",
              "      <td>Inept, boring, and incoherent supernatural \"thriller\" in which college student Cassie (Melissa Sagemiller) is the constant victim of hallucinations and nightmares after a car accident claims the life of her boyfriend Sean (Casey Affleck).&lt;br /&gt;&lt;br /&gt;I can't begin to tell you how bad this is...nothing of any importance ever happens nor is there ever any sort of actual entertainment value. I did not like this cast in this particular film - they are all sadly unconvincing (then again, their roles are no good). To promote this as a horror film is a joke. Where are the scares? There's no sense or suspense - there are a few good songs but that's about it.&lt;br /&gt;&lt;br /&gt;How on Earth did this project get the green light? Writer-director Steve Carpenter has no discernible vision or talent that I can sense. Worst of all, the conclusion really makes the whole movie pointless.&lt;br /&gt;&lt;br /&gt;The alleged \"killer cut\" that I watched is 86 minutes of pure tedium.&lt;br /&gt;&lt;br /&gt;1/10</td>\n",
              "      <td>0</td>\n",
              "    </tr>\n",
              "    <tr>\n",
              "      <th>1</th>\n",
              "      <td>Jimmy Cagney races by your eyes constantly in this story of a stage-producer who is vigorously struggling against the upcoming \"talking\" movies.&lt;br /&gt;&lt;br /&gt;This story of love, deceit, women and dancing is presented in such a manner that as a viewer you are never treated to a dull moment. The direction of the mass scenes in the rehearsal rooms was enormously well done. The story never really got lost in this frantic pace.&lt;br /&gt;&lt;br /&gt;Some parts of the material presented here have become a little dated but that doesn't matter because when you look at this in a 1933 time-frame it is fabulous to watch this next to a lot of the other drags of movies that were released during that time.&lt;br /&gt;&lt;br /&gt;Jimmy Cagney is a sight for sore eyes in this film, never loosing his composure as the ever-working producer of previews made for the movie theaters as intros. In this way he tries to save his ass from going out of business, he was a broadway producer before he started this. Joan Blondell is fabulous as the neglected love-interest, Nan, she gives such a spirited performance that is so unusual for movies of that time, so cool to watch a woman who is portrayed as a strong woman for a change.&lt;br /&gt;&lt;br /&gt;The only problem I had with the film were the enormous productions at the end. These were magnificent in itself, beautifully choreographed and wonderfully produced, but they just didn't seem to fit in the story. The only link they have to the main story is that Cagney had to put on 3 previews in 3 days to get a contract and that's what he did. I had a hard time believing that this was what the girls had been rehearsing during the entire movie and that these sets could fit in a movie theater. In this way the \"Sitting On A Backyard Fence\" was much more appropriate to the story.&lt;br /&gt;&lt;br /&gt;The productions at the end seemed to drag this frantically paced story to a halt and that was not a good thing. I was tired after seeing the first Musical sequence and then I realized there were another two coming up. These sequences got a lot a chuckles from the audience as well.&lt;br /&gt;&lt;br /&gt;All in all a great film with a sour ending.&lt;br /&gt;&lt;br /&gt;9/10</td>\n",
              "      <td>1</td>\n",
              "    </tr>\n",
              "    <tr>\n",
              "      <th>2</th>\n",
              "      <td>The most positive points in this film were the credits (text style) and some moments in Ice-T's acting. The story-line; two rival gangs having to fight it out, with the sub-plots of betrayal, power and change are well worn plots but in this case painful(very) to wade through. The decrepit scenery, which added slight believability in places, and questionable lighting, constantly distracted from any interest/identification with the characters (the shine off of the actress's forehead/nose was blinding, not to mention other scenes with the same problem.) Not even half way into the film I wanted to know more about how and why it came about as opposed to what was going on on screen. A disappointment if you have seen Ice-T in other roles. Kudos to other actors/actresses who seemed to get into their roles despite the weak direction; Corrupt's side kick and the other restaurant worker.</td>\n",
              "      <td>0</td>\n",
              "    </tr>\n",
              "    <tr>\n",
              "      <th>3</th>\n",
              "      <td>Actually one particular person/character isn't \"right there\", but my summary line is referring to the power of the movie. And this is all achieved without any fancy camera moves and/or big production sets, but with a great story and very (believable) and good actors conveying the story (arc).&lt;br /&gt;&lt;br /&gt;You could call it a companion piece to great japan movies/cinema (such as Tokyo Story etc.), not so much story-wise of course, but more mood-wise! Great acting, nuances in the performances that are truly gems. If you're eager to experience a touching story and want to see a movie touching you emotionally, than this is the one to go. As you have noticed (as with many of my reviews), I'm not getting into the story. There are places here at IMDb where you can look those up, I'm not one to spoiler the story whatsoever!</td>\n",
              "      <td>1</td>\n",
              "    </tr>\n",
              "    <tr>\n",
              "      <th>4</th>\n",
              "      <td>Peter Jacksons version(s) are better films overall from objective point of view. That being said, they are not my favorite screen versions of Lord Of The Rings, and let me explain why. &lt;br /&gt;&lt;br /&gt;Firstly, the acting of the on-screen characters is just too ordinary and uninspiring with Jackson's LOTR. The whole cast is too run of the mill. \"Are you claiming that those silly cartoon characters of Ralph Bakshi version are better actors than real people?\" one could ask. Well, they are not really silly(save for Hobbits, later about them) and they certainly pack more personality than Jackson's party - even with much more limited dialogue time. And that is because of superior _voice_ acting of the Bakshi's LOTR. Take Aragorn for example. In this version his voice is deep and charismatic with full of authority(Aragorn the lord)and with a seasoned rasp(Aragorn the ranger). This is due to John Hurt's brilliant voice acting. Compare that to Viggo Mortensen's rather high pitched sound with no soul and the duel gets quickly uneven: Hurt beats Mortensen hands down. &lt;br /&gt;&lt;br /&gt;And then there is Gandalf. Probably the most dominating(and the most popular) character in the whole saga. In this Bakshi version Gandalf(William Squire) is a real wizard. And by that I don't mean he shoots bolts from his fingertips(he does not), but his presence is just captivating. He is a mystical, powerful and can switch from gentle old man to a scary person with ease. Add to that his looks: Tall, old as the ancient oak, beard long as his body, sharp eyes, wizardy hook nose and of course, the classical wizard hat. A Perfect Gandalf, just like in the books. Ian McKellen's Gandalf in the other hand, is simply just too boring. He looks too human, sounds too human, acts too human and wears no hat or wields no sword. Yes a sword. In this Bakshi version Gandalf scores couple of bloody orc kills with his sword(as he did in the books). And those are stylish slow motion kills. Gandalf is not a power to be messed with. And it must be noted, that while I'm sad to say this, the great Christopher Lee didn't bring Saruman alive. Fraser Kerr in this movie did, even with a very limited screen time and lines.&lt;br /&gt;&lt;br /&gt;Before I move completely to visual aspects of the movie, it must be mentioned that the voice acting and the general presenation of the Orcs are also superior to Jackson's pretendeous bad guys. Bakshi's orcs taunt their enemies(or each other) constantly with growls, screams and nasty language. They are more believable as monsters and are more faithful to the book in my opinion. And finally, the Black Riders - or the Nazgul. Those ultimate bad guys are scary ghosts in this one - not just some riders wearing black. And they speak with haunting voice, which mesmerizes their victim. My favorite scene in the film is when the Nazgul are chasing Frodo near the river. While Peter Jackson couldn't do anything but show the riders simply chasing the party, Bakshi throws in a nightmarish dream with some cool slow motion scenes and thundering sky.&lt;br /&gt;&lt;br /&gt;But as much I like this film more than Jackson's, the latter are, if only technically, still better. And that is because of some key visuals. As you know Bakshi LOTR features a mixture of animated characters(all hobbits and the main cast) and real actors covered with paint. I don't really have a problem using real people in animation this way, but they just don't fit very well with traditional cartoon figures. This is especially true with humans(Riders of Rohan, tavern people etc.) Orcs are different matter, since they are meant to look very distinctive from other characters. Orcs, while played by humans with animation mix, look far superior to Jacksons version. They have brownish-green skin, shiny red eyes, flat face and pointed teeth. &lt;br /&gt;&lt;br /&gt;Biggest screw up in this films visuals, howerver, are the Hobbits. While I prefer almost every character in Bakshi version compared to Jackson, the latter has clearly superior Hobbits, in fact they are perfect. With Bakshi you get some irritating and rather poorly drawn humanoid Disney bambies. And you are forced to spend a lot of movie time with them, so be warned. Again, the voice acting is OK with them too, but the actors mouths cannot save the \"immersion damage\" made by these little weasels. Well, I never really liked those halflings anyway. &lt;br /&gt;&lt;br /&gt;General failures in the Bakshi script are well known. Limited playing time(with limited budget) and a lot of missing scenes. So while this film covers nearly half of the story, it doesn't do it in extensive detail compared to Jackson's version. &lt;br /&gt;&lt;br /&gt;In a summary the Ralph Bakshi version of LOTR has a superior:&lt;br /&gt;&lt;br /&gt;-overall atmosphere (it feels more like Middle-Earth) -overall voice acting -music (I really dig the fantasy score by Kont &amp; Rosenman) -Gandalf -Aragorn (One of the John Hurt's finest roles) -King Theoden -Orcs -Black Riders -Elrond (He's not some fairy hippie in this one!)&lt;br /&gt;&lt;br /&gt;While Jackson version is better:&lt;br /&gt;&lt;br /&gt;-because it covers the whole story -overall visuals and special effects -Gollum/Smeagol -Balrog -Hobbits&lt;br /&gt;&lt;br /&gt;Lord of the Rings by Ralph Bakshi, even with it's well known shortcomings, is one of the best animation films ever made and it captures the atmosphere of Tolkien's fantasy world very well, if not perfectly. I'll give it a score of 8½ out of 10.</td>\n",
              "      <td>1</td>\n",
              "    </tr>\n",
              "  </tbody>\n",
              "</table>\n",
              "</div>\n",
              "    <div class=\"colab-df-buttons\">\n",
              "\n",
              "  <div class=\"colab-df-container\">\n",
              "    <button class=\"colab-df-convert\" onclick=\"convertToInteractive('df-acaf3223-05c1-4e3f-85d1-24ca814333aa')\"\n",
              "            title=\"Convert this dataframe to an interactive table.\"\n",
              "            style=\"display:none;\">\n",
              "\n",
              "  <svg xmlns=\"http://www.w3.org/2000/svg\" height=\"24px\" viewBox=\"0 -960 960 960\">\n",
              "    <path d=\"M120-120v-720h720v720H120Zm60-500h600v-160H180v160Zm220 220h160v-160H400v160Zm0 220h160v-160H400v160ZM180-400h160v-160H180v160Zm440 0h160v-160H620v160ZM180-180h160v-160H180v160Zm440 0h160v-160H620v160Z\"/>\n",
              "  </svg>\n",
              "    </button>\n",
              "\n",
              "  <style>\n",
              "    .colab-df-container {\n",
              "      display:flex;\n",
              "      gap: 12px;\n",
              "    }\n",
              "\n",
              "    .colab-df-convert {\n",
              "      background-color: #E8F0FE;\n",
              "      border: none;\n",
              "      border-radius: 50%;\n",
              "      cursor: pointer;\n",
              "      display: none;\n",
              "      fill: #1967D2;\n",
              "      height: 32px;\n",
              "      padding: 0 0 0 0;\n",
              "      width: 32px;\n",
              "    }\n",
              "\n",
              "    .colab-df-convert:hover {\n",
              "      background-color: #E2EBFA;\n",
              "      box-shadow: 0px 1px 2px rgba(60, 64, 67, 0.3), 0px 1px 3px 1px rgba(60, 64, 67, 0.15);\n",
              "      fill: #174EA6;\n",
              "    }\n",
              "\n",
              "    .colab-df-buttons div {\n",
              "      margin-bottom: 4px;\n",
              "    }\n",
              "\n",
              "    [theme=dark] .colab-df-convert {\n",
              "      background-color: #3B4455;\n",
              "      fill: #D2E3FC;\n",
              "    }\n",
              "\n",
              "    [theme=dark] .colab-df-convert:hover {\n",
              "      background-color: #434B5C;\n",
              "      box-shadow: 0px 1px 3px 1px rgba(0, 0, 0, 0.15);\n",
              "      filter: drop-shadow(0px 1px 2px rgba(0, 0, 0, 0.3));\n",
              "      fill: #FFFFFF;\n",
              "    }\n",
              "  </style>\n",
              "\n",
              "    <script>\n",
              "      const buttonEl =\n",
              "        document.querySelector('#df-acaf3223-05c1-4e3f-85d1-24ca814333aa button.colab-df-convert');\n",
              "      buttonEl.style.display =\n",
              "        google.colab.kernel.accessAllowed ? 'block' : 'none';\n",
              "\n",
              "      async function convertToInteractive(key) {\n",
              "        const element = document.querySelector('#df-acaf3223-05c1-4e3f-85d1-24ca814333aa');\n",
              "        const dataTable =\n",
              "          await google.colab.kernel.invokeFunction('convertToInteractive',\n",
              "                                                    [key], {});\n",
              "        if (!dataTable) return;\n",
              "\n",
              "        const docLinkHtml = 'Like what you see? Visit the ' +\n",
              "          '<a target=\"_blank\" href=https://colab.research.google.com/notebooks/data_table.ipynb>data table notebook</a>'\n",
              "          + ' to learn more about interactive tables.';\n",
              "        element.innerHTML = '';\n",
              "        dataTable['output_type'] = 'display_data';\n",
              "        await google.colab.output.renderOutput(dataTable, element);\n",
              "        const docLink = document.createElement('div');\n",
              "        docLink.innerHTML = docLinkHtml;\n",
              "        element.appendChild(docLink);\n",
              "      }\n",
              "    </script>\n",
              "  </div>\n",
              "\n",
              "\n",
              "<div id=\"df-eb4572d1-f598-4687-b142-1f4dc6a05080\">\n",
              "  <button class=\"colab-df-quickchart\" onclick=\"quickchart('df-eb4572d1-f598-4687-b142-1f4dc6a05080')\"\n",
              "            title=\"Suggest charts\"\n",
              "            style=\"display:none;\">\n",
              "\n",
              "<svg xmlns=\"http://www.w3.org/2000/svg\" height=\"24px\"viewBox=\"0 0 24 24\"\n",
              "     width=\"24px\">\n",
              "    <g>\n",
              "        <path d=\"M19 3H5c-1.1 0-2 .9-2 2v14c0 1.1.9 2 2 2h14c1.1 0 2-.9 2-2V5c0-1.1-.9-2-2-2zM9 17H7v-7h2v7zm4 0h-2V7h2v10zm4 0h-2v-4h2v4z\"/>\n",
              "    </g>\n",
              "</svg>\n",
              "  </button>\n",
              "\n",
              "<style>\n",
              "  .colab-df-quickchart {\n",
              "      --bg-color: #E8F0FE;\n",
              "      --fill-color: #1967D2;\n",
              "      --hover-bg-color: #E2EBFA;\n",
              "      --hover-fill-color: #174EA6;\n",
              "      --disabled-fill-color: #AAA;\n",
              "      --disabled-bg-color: #DDD;\n",
              "  }\n",
              "\n",
              "  [theme=dark] .colab-df-quickchart {\n",
              "      --bg-color: #3B4455;\n",
              "      --fill-color: #D2E3FC;\n",
              "      --hover-bg-color: #434B5C;\n",
              "      --hover-fill-color: #FFFFFF;\n",
              "      --disabled-bg-color: #3B4455;\n",
              "      --disabled-fill-color: #666;\n",
              "  }\n",
              "\n",
              "  .colab-df-quickchart {\n",
              "    background-color: var(--bg-color);\n",
              "    border: none;\n",
              "    border-radius: 50%;\n",
              "    cursor: pointer;\n",
              "    display: none;\n",
              "    fill: var(--fill-color);\n",
              "    height: 32px;\n",
              "    padding: 0;\n",
              "    width: 32px;\n",
              "  }\n",
              "\n",
              "  .colab-df-quickchart:hover {\n",
              "    background-color: var(--hover-bg-color);\n",
              "    box-shadow: 0 1px 2px rgba(60, 64, 67, 0.3), 0 1px 3px 1px rgba(60, 64, 67, 0.15);\n",
              "    fill: var(--button-hover-fill-color);\n",
              "  }\n",
              "\n",
              "  .colab-df-quickchart-complete:disabled,\n",
              "  .colab-df-quickchart-complete:disabled:hover {\n",
              "    background-color: var(--disabled-bg-color);\n",
              "    fill: var(--disabled-fill-color);\n",
              "    box-shadow: none;\n",
              "  }\n",
              "\n",
              "  .colab-df-spinner {\n",
              "    border: 2px solid var(--fill-color);\n",
              "    border-color: transparent;\n",
              "    border-bottom-color: var(--fill-color);\n",
              "    animation:\n",
              "      spin 1s steps(1) infinite;\n",
              "  }\n",
              "\n",
              "  @keyframes spin {\n",
              "    0% {\n",
              "      border-color: transparent;\n",
              "      border-bottom-color: var(--fill-color);\n",
              "      border-left-color: var(--fill-color);\n",
              "    }\n",
              "    20% {\n",
              "      border-color: transparent;\n",
              "      border-left-color: var(--fill-color);\n",
              "      border-top-color: var(--fill-color);\n",
              "    }\n",
              "    30% {\n",
              "      border-color: transparent;\n",
              "      border-left-color: var(--fill-color);\n",
              "      border-top-color: var(--fill-color);\n",
              "      border-right-color: var(--fill-color);\n",
              "    }\n",
              "    40% {\n",
              "      border-color: transparent;\n",
              "      border-right-color: var(--fill-color);\n",
              "      border-top-color: var(--fill-color);\n",
              "    }\n",
              "    60% {\n",
              "      border-color: transparent;\n",
              "      border-right-color: var(--fill-color);\n",
              "    }\n",
              "    80% {\n",
              "      border-color: transparent;\n",
              "      border-right-color: var(--fill-color);\n",
              "      border-bottom-color: var(--fill-color);\n",
              "    }\n",
              "    90% {\n",
              "      border-color: transparent;\n",
              "      border-bottom-color: var(--fill-color);\n",
              "    }\n",
              "  }\n",
              "</style>\n",
              "\n",
              "  <script>\n",
              "    async function quickchart(key) {\n",
              "      const quickchartButtonEl =\n",
              "        document.querySelector('#' + key + ' button');\n",
              "      quickchartButtonEl.disabled = true;  // To prevent multiple clicks.\n",
              "      quickchartButtonEl.classList.add('colab-df-spinner');\n",
              "      try {\n",
              "        const charts = await google.colab.kernel.invokeFunction(\n",
              "            'suggestCharts', [key], {});\n",
              "      } catch (error) {\n",
              "        console.error('Error during call to suggestCharts:', error);\n",
              "      }\n",
              "      quickchartButtonEl.classList.remove('colab-df-spinner');\n",
              "      quickchartButtonEl.classList.add('colab-df-quickchart-complete');\n",
              "    }\n",
              "    (() => {\n",
              "      let quickchartButtonEl =\n",
              "        document.querySelector('#df-eb4572d1-f598-4687-b142-1f4dc6a05080 button');\n",
              "      quickchartButtonEl.style.display =\n",
              "        google.colab.kernel.accessAllowed ? 'block' : 'none';\n",
              "    })();\n",
              "  </script>\n",
              "</div>\n",
              "\n",
              "    </div>\n",
              "  </div>\n"
            ],
            "application/vnd.google.colaboratory.intrinsic+json": {
              "type": "dataframe",
              "variable_name": "df",
              "summary": "{\n  \"name\": \"df\",\n  \"rows\": 5000,\n  \"fields\": [\n    {\n      \"column\": \"review\",\n      \"properties\": {\n        \"dtype\": \"string\",\n        \"samples\": [\n          \"What is the most harrowing movie ever made? The gynaecological nightmare of 'Cries and Whispers'? The acid psychodramas of Fassbinder? The discomfiting black comedy of 'Last House on the left? I'm sure for that portion of the film-loving public that tie their masts to the good ship Buster Keaton, there is only one answer - any one of his sound films. <br /><br />I don't know what flayed my soul more poignantly in this movie - the grounding of Keaton's intricate and expansive physical art to humdrum slapstick; the painful hesitation of this master filmmaker with dialogue - not that he hasn't a lovely, comic voice, or that he can't make dialogue funny; it's just that the studio don't seem to have given him enough takes, and so he seems to be trying to remember his lines before he delivers, which only makes him - Keaton, not his character, look silly; or is it the humiliation of seeing Keaton caught up in a tawdry sex farce, when he has given us some of the richest accounts of romantic frustration in film? <br /><br />No, I know what was most disturbing - having to watch Buster Keaton, cinema's greatest comedian, sit aside to observe Jimmy Durante doing his schtick. It is horrors such as this that get yer Dantes composing yer Infernos.<br /><br />MGM seem to have got the curious idea that the best way to adapt Keaton to sound was to turn him into a Marx Brother, complete with verbal pedantry, elaborate, tedious 'clowning', shambolic slapstick, theatrical setting, triumph through chaos, and Thelma Todd. Keaton was just not that sort of comic, and where Groucho's malicious tongue and gleeful opportunism might just have made this plot work, Buster's socially inept professor can't, he is too studied and predictable. <br /><br />What Buster needed was to be allowed experiment like Lang in 'M', or Rene Clair; he would never have tried to hold back the tide like Chaplin. When a film like 'The General' is alluded to - messing about with trains - the loss becomes even more apparent. <br /><br />And the thing is, in patches amid the flat direction, the film isn't all that bad - there is an excellent jolt when a camera on the bus leaves Keaton alone at a railway station; and the denouement, if hardly original, is at least livelier than what went before. There is something almost endearing about the way Keaton slows down a plot that needs all the zip it can get. <br /><br />There is a film in here about loneliness, emotionally paralysing order, the numbing effects of education etc., struggling to get out. The best way to appreciate this film is to watch not the narrative of Professor TZ Post, but of emasculated genius Buster Keaton, trapped in a prison of mediocrity, confounded by new technology, mocked by a malevolent fate (in this case the studio), retaining a stoical grace. Looked at like that, it becomes a kind of masterpiece.\",\n          \"This movie was horrendous... It had absolutely nothing to do with Dark Harvest. And the DVD was very misleading because it showed a scarecrow and a scythe, neither of which appeared in this movie.<br /><br />The beginning was a jumble of random scenes that, most of which, had nothing to do with the movie, except that they sort of show that the man is psychic... but not too well...<br /><br />After the first 10 minutes of the movie there is an hour of just the man character looking for his daughters. It gets vaguely interesting when the daughters meet two girls who died the year before. But that's the extent of it.<br /><br />And why, might i ask, was this movie rated R? There were two drops of blood and 4 curse words. And how on earth did it get into a video store?? This movie was poorly acted, poorly filmed, poorly written, and overall horribly executed.\",\n          \"I was just looking at the 100 bottom movies according to IMDb users seeing if there was anything to review that I haven't yet and I found this little screen gem. One of those occasions when you see a movie ranked as one of the worst and you just have to be one of the few that actually likes it. Darn, well I guess I will get ridiculed and spat upon here, but for me this was a pretty good flick when I saw it. It has been awhile however, I remember it used to come on HBO late at night and I watched it two or three times and I haven't seen it really since and I would love to watch it again now knowing Jolie was in it. The story follows a cyborg and a guy trying to escape the clutches of this corporation and some bounty hunters after them. I think that is basically all there is to it, throw in a few scenes with Jack Palance and we have our movie. Some good action here and there, and some blood and violence as well. There is also a love story at play as well as the female cyborg and the guy who trained her to fight kind of fall in love with each other. The dialog sometimes becomes rather bad at times and it is by far not a top notch film, but for a b-movie it is really good. I don't know if it was a theatrical release though because it does not seem high quality enough for that, but it does make for one of the better direct to videos if it was one of those.\"\n        ],\n        \"num_unique_values\": 5000,\n        \"semantic_type\": \"\",\n        \"description\": \"\"\n      }\n    },\n    {\n      \"column\": \"sentiment\",\n      \"properties\": {\n        \"dtype\": \"number\",\n        \"std\": 0,\n        \"min\": 0,\n        \"max\": 1,\n        \"samples\": [\n          1,\n          0\n        ],\n        \"num_unique_values\": 2,\n        \"semantic_type\": \"\",\n        \"description\": \"\"\n      }\n    }\n  ]\n}"
            }
          },
          "metadata": {},
          "execution_count": 6
        }
      ],
      "source": [
        "# Display first few rows of dataframe\n",
        "df.head()"
      ]
    },
    {
      "cell_type": "code",
      "execution_count": 7,
      "id": "e15e962b-e5df-4c92-ae25-5524d5788982",
      "metadata": {
        "id": "e15e962b-e5df-4c92-ae25-5524d5788982",
        "colab": {
          "base_uri": "https://localhost:8080/",
          "height": 449
        },
        "outputId": "92b50d76-b88f-4f04-fd1a-38dbf62e990b"
      },
      "outputs": [
        {
          "output_type": "display_data",
          "data": {
            "text/plain": [
              "<Figure size 640x480 with 1 Axes>"
            ],
            "image/png": "[encoded data removed]"
          },
          "metadata": {}
        }
      ],
      "source": [
        "# Display bar graph showing class distribution ('sentiment' column)\n",
        "sns.countplot(x='sentiment', data=df)\n",
        "plt.show()"
      ]
    },
    {
      "cell_type": "markdown",
      "source": [
        "### Clean data"
      ],
      "metadata": {
        "id": "xsB9oRWMgvRN"
      },
      "id": "xsB9oRWMgvRN"
    },
    {
      "cell_type": "code",
      "execution_count": 8,
      "id": "e6db4605-dd0f-41bd-9af3-35aaab494de3",
      "metadata": {
        "id": "e6db4605-dd0f-41bd-9af3-35aaab494de3",
        "colab": {
          "base_uri": "https://localhost:8080/"
        },
        "outputId": "664499b3-7e33-4be6-9ea1-7bf53b999633"
      },
      "outputs": [
        {
          "output_type": "stream",
          "name": "stdout",
          "text": [
            "CPU times: user 709 ms, sys: 16.8 ms, total: 726 ms\n",
            "Wall time: 997 ms\n"
          ]
        }
      ],
      "source": [
        "%%time\n",
        "\n",
        "# Remove the string '<br /><br />' from 'review' column\n",
        "df['review'] = df['review'].str.replace('<br /><br />', ' ')\n",
        "\n",
        "# Remove extra spaces from 'review' column\n",
        "df['review'] = df['review'].str.replace(r'\\s+', ' ', regex=True).str.strip()"
      ]
    },
    {
      "cell_type": "code",
      "source": [
        "# Display first few rows of updated dataframe\n",
        "df.head(2)"
      ],
      "metadata": {
        "id": "YcgFNGGwFjv2",
        "colab": {
          "base_uri": "https://localhost:8080/",
          "height": 407
        },
        "outputId": "cb952177-f24b-4676-cfc5-32ff14e37e90"
      },
      "id": "YcgFNGGwFjv2",
      "execution_count": 9,
      "outputs": [
        {
          "output_type": "execute_result",
          "data": {
            "text/plain": [
              "                                                                                                                                                                                                                                                                                                                                                                                                                                                                                                                                                                                                                                                                                                                                                                                                                                                                                                                                                                                                                                                                                                                                                                                                                                                                                                                                                                                                                                                                                                                                                                                                                                                                                                                                                                                                                                                                                                                                                                                                                                                                                                                                                        review  \\\n",
              "0                                                                                                                                                                                                                                                                                                                                                                                                                                                                                                                                                                                                                                                                                                                                                                                                                                                                                                                                                                                                                                                                                                                                                                                              Inept, boring, and incoherent supernatural \"thriller\" in which college student Cassie (Melissa Sagemiller) is the constant victim of hallucinations and nightmares after a car accident claims the life of her boyfriend Sean (Casey Affleck). I can't begin to tell you how bad this is...nothing of any importance ever happens nor is there ever any sort of actual entertainment value. I did not like this cast in this particular film - they are all sadly unconvincing (then again, their roles are no good). To promote this as a horror film is a joke. Where are the scares? There's no sense or suspense - there are a few good songs but that's about it. How on Earth did this project get the green light? Writer-director Steve Carpenter has no discernible vision or talent that I can sense. Worst of all, the conclusion really makes the whole movie pointless. The alleged \"killer cut\" that I watched is 86 minutes of pure tedium. 1/10   \n",
              "1  Jimmy Cagney races by your eyes constantly in this story of a stage-producer who is vigorously struggling against the upcoming \"talking\" movies. This story of love, deceit, women and dancing is presented in such a manner that as a viewer you are never treated to a dull moment. The direction of the mass scenes in the rehearsal rooms was enormously well done. The story never really got lost in this frantic pace. Some parts of the material presented here have become a little dated but that doesn't matter because when you look at this in a 1933 time-frame it is fabulous to watch this next to a lot of the other drags of movies that were released during that time. Jimmy Cagney is a sight for sore eyes in this film, never loosing his composure as the ever-working producer of previews made for the movie theaters as intros. In this way he tries to save his ass from going out of business, he was a broadway producer before he started this. Joan Blondell is fabulous as the neglected love-interest, Nan, she gives such a spirited performance that is so unusual for movies of that time, so cool to watch a woman who is portrayed as a strong woman for a change. The only problem I had with the film were the enormous productions at the end. These were magnificent in itself, beautifully choreographed and wonderfully produced, but they just didn't seem to fit in the story. The only link they have to the main story is that Cagney had to put on 3 previews in 3 days to get a contract and that's what he did. I had a hard time believing that this was what the girls had been rehearsing during the entire movie and that these sets could fit in a movie theater. In this way the \"Sitting On A Backyard Fence\" was much more appropriate to the story. The productions at the end seemed to drag this frantically paced story to a halt and that was not a good thing. I was tired after seeing the first Musical sequence and then I realized there were another two coming up. These sequences got a lot a chuckles from the audience as well. All in all a great film with a sour ending. 9/10   \n",
              "\n",
              "   sentiment  \n",
              "0          0  \n",
              "1          1  "
            ],
            "text/html": [
              "\n",
              "  <div id=\"df-3c8025f0-8e94-4263-870c-8e35c552e437\" class=\"colab-df-container\">\n",
              "    <div>\n",
              "<style scoped>\n",
              "    .dataframe tbody tr th:only-of-type {\n",
              "        vertical-align: middle;\n",
              "    }\n",
              "\n",
              "    .dataframe tbody tr th {\n",
              "        vertical-align: top;\n",
              "    }\n",
              "\n",
              "    .dataframe thead th {\n",
              "        text-align: right;\n",
              "    }\n",
              "</style>\n",
              "<table border=\"1\" class=\"dataframe\">\n",
              "  <thead>\n",
              "    <tr style=\"text-align: right;\">\n",
              "      <th></th>\n",
              "      <th>review</th>\n",
              "      <th>sentiment</th>\n",
              "    </tr>\n",
              "  </thead>\n",
              "  <tbody>\n",
              "    <tr>\n",
              "      <th>0</th>\n",
              "      <td>Inept, boring, and incoherent supernatural \"thriller\" in which college student Cassie (Melissa Sagemiller) is the constant victim of hallucinations and nightmares after a car accident claims the life of her boyfriend Sean (Casey Affleck). I can't begin to tell you how bad this is...nothing of any importance ever happens nor is there ever any sort of actual entertainment value. I did not like this cast in this particular film - they are all sadly unconvincing (then again, their roles are no good). To promote this as a horror film is a joke. Where are the scares? There's no sense or suspense - there are a few good songs but that's about it. How on Earth did this project get the green light? Writer-director Steve Carpenter has no discernible vision or talent that I can sense. Worst of all, the conclusion really makes the whole movie pointless. The alleged \"killer cut\" that I watched is 86 minutes of pure tedium. 1/10</td>\n",
              "      <td>0</td>\n",
              "    </tr>\n",
              "    <tr>\n",
              "      <th>1</th>\n",
              "      <td>Jimmy Cagney races by your eyes constantly in this story of a stage-producer who is vigorously struggling against the upcoming \"talking\" movies. This story of love, deceit, women and dancing is presented in such a manner that as a viewer you are never treated to a dull moment. The direction of the mass scenes in the rehearsal rooms was enormously well done. The story never really got lost in this frantic pace. Some parts of the material presented here have become a little dated but that doesn't matter because when you look at this in a 1933 time-frame it is fabulous to watch this next to a lot of the other drags of movies that were released during that time. Jimmy Cagney is a sight for sore eyes in this film, never loosing his composure as the ever-working producer of previews made for the movie theaters as intros. In this way he tries to save his ass from going out of business, he was a broadway producer before he started this. Joan Blondell is fabulous as the neglected love-interest, Nan, she gives such a spirited performance that is so unusual for movies of that time, so cool to watch a woman who is portrayed as a strong woman for a change. The only problem I had with the film were the enormous productions at the end. These were magnificent in itself, beautifully choreographed and wonderfully produced, but they just didn't seem to fit in the story. The only link they have to the main story is that Cagney had to put on 3 previews in 3 days to get a contract and that's what he did. I had a hard time believing that this was what the girls had been rehearsing during the entire movie and that these sets could fit in a movie theater. In this way the \"Sitting On A Backyard Fence\" was much more appropriate to the story. The productions at the end seemed to drag this frantically paced story to a halt and that was not a good thing. I was tired after seeing the first Musical sequence and then I realized there were another two coming up. These sequences got a lot a chuckles from the audience as well. All in all a great film with a sour ending. 9/10</td>\n",
              "      <td>1</td>\n",
              "    </tr>\n",
              "  </tbody>\n",
              "</table>\n",
              "</div>\n",
              "    <div class=\"colab-df-buttons\">\n",
              "\n",
              "  <div class=\"colab-df-container\">\n",
              "    <button class=\"colab-df-convert\" onclick=\"convertToInteractive('df-3c8025f0-8e94-4263-870c-8e35c552e437')\"\n",
              "            title=\"Convert this dataframe to an interactive table.\"\n",
              "            style=\"display:none;\">\n",
              "\n",
              "  <svg xmlns=\"http://www.w3.org/2000/svg\" height=\"24px\" viewBox=\"0 -960 960 960\">\n",
              "    <path d=\"M120-120v-720h720v720H120Zm60-500h600v-160H180v160Zm220 220h160v-160H400v160Zm0 220h160v-160H400v160ZM180-400h160v-160H180v160Zm440 0h160v-160H620v160ZM180-180h160v-160H180v160Zm440 0h160v-160H620v160Z\"/>\n",
              "  </svg>\n",
              "    </button>\n",
              "\n",
              "  <style>\n",
              "    .colab-df-container {\n",
              "      display:flex;\n",
              "      gap: 12px;\n",
              "    }\n",
              "\n",
              "    .colab-df-convert {\n",
              "      background-color: #E8F0FE;\n",
              "      border: none;\n",
              "      border-radius: 50%;\n",
              "      cursor: pointer;\n",
              "      display: none;\n",
              "      fill: #1967D2;\n",
              "      height: 32px;\n",
              "      padding: 0 0 0 0;\n",
              "      width: 32px;\n",
              "    }\n",
              "\n",
              "    .colab-df-convert:hover {\n",
              "      background-color: #E2EBFA;\n",
              "      box-shadow: 0px 1px 2px rgba(60, 64, 67, 0.3), 0px 1px 3px 1px rgba(60, 64, 67, 0.15);\n",
              "      fill: #174EA6;\n",
              "    }\n",
              "\n",
              "    .colab-df-buttons div {\n",
              "      margin-bottom: 4px;\n",
              "    }\n",
              "\n",
              "    [theme=dark] .colab-df-convert {\n",
              "      background-color: #3B4455;\n",
              "      fill: #D2E3FC;\n",
              "    }\n",
              "\n",
              "    [theme=dark] .colab-df-convert:hover {\n",
              "      background-color: #434B5C;\n",
              "      box-shadow: 0px 1px 3px 1px rgba(0, 0, 0, 0.15);\n",
              "      filter: drop-shadow(0px 1px 2px rgba(0, 0, 0, 0.3));\n",
              "      fill: #FFFFFF;\n",
              "    }\n",
              "  </style>\n",
              "\n",
              "    <script>\n",
              "      const buttonEl =\n",
              "        document.querySelector('#df-3c8025f0-8e94-4263-870c-8e35c552e437 button.colab-df-convert');\n",
              "      buttonEl.style.display =\n",
              "        google.colab.kernel.accessAllowed ? 'block' : 'none';\n",
              "\n",
              "      async function convertToInteractive(key) {\n",
              "        const element = document.querySelector('#df-3c8025f0-8e94-4263-870c-8e35c552e437');\n",
              "        const dataTable =\n",
              "          await google.colab.kernel.invokeFunction('convertToInteractive',\n",
              "                                                    [key], {});\n",
              "        if (!dataTable) return;\n",
              "\n",
              "        const docLinkHtml = 'Like what you see? Visit the ' +\n",
              "          '<a target=\"_blank\" href=https://colab.research.google.com/notebooks/data_table.ipynb>data table notebook</a>'\n",
              "          + ' to learn more about interactive tables.';\n",
              "        element.innerHTML = '';\n",
              "        dataTable['output_type'] = 'display_data';\n",
              "        await google.colab.output.renderOutput(dataTable, element);\n",
              "        const docLink = document.createElement('div');\n",
              "        docLink.innerHTML = docLinkHtml;\n",
              "        element.appendChild(docLink);\n",
              "      }\n",
              "    </script>\n",
              "  </div>\n",
              "\n",
              "\n",
              "<div id=\"df-c91afc8d-e156-4515-bc24-3f37aac58adf\">\n",
              "  <button class=\"colab-df-quickchart\" onclick=\"quickchart('df-c91afc8d-e156-4515-bc24-3f37aac58adf')\"\n",
              "            title=\"Suggest charts\"\n",
              "            style=\"display:none;\">\n",
              "\n",
              "<svg xmlns=\"http://www.w3.org/2000/svg\" height=\"24px\"viewBox=\"0 0 24 24\"\n",
              "     width=\"24px\">\n",
              "    <g>\n",
              "        <path d=\"M19 3H5c-1.1 0-2 .9-2 2v14c0 1.1.9 2 2 2h14c1.1 0 2-.9 2-2V5c0-1.1-.9-2-2-2zM9 17H7v-7h2v7zm4 0h-2V7h2v10zm4 0h-2v-4h2v4z\"/>\n",
              "    </g>\n",
              "</svg>\n",
              "  </button>\n",
              "\n",
              "<style>\n",
              "  .colab-df-quickchart {\n",
              "      --bg-color: #E8F0FE;\n",
              "      --fill-color: #1967D2;\n",
              "      --hover-bg-color: #E2EBFA;\n",
              "      --hover-fill-color: #174EA6;\n",
              "      --disabled-fill-color: #AAA;\n",
              "      --disabled-bg-color: #DDD;\n",
              "  }\n",
              "\n",
              "  [theme=dark] .colab-df-quickchart {\n",
              "      --bg-color: #3B4455;\n",
              "      --fill-color: #D2E3FC;\n",
              "      --hover-bg-color: #434B5C;\n",
              "      --hover-fill-color: #FFFFFF;\n",
              "      --disabled-bg-color: #3B4455;\n",
              "      --disabled-fill-color: #666;\n",
              "  }\n",
              "\n",
              "  .colab-df-quickchart {\n",
              "    background-color: var(--bg-color);\n",
              "    border: none;\n",
              "    border-radius: 50%;\n",
              "    cursor: pointer;\n",
              "    display: none;\n",
              "    fill: var(--fill-color);\n",
              "    height: 32px;\n",
              "    padding: 0;\n",
              "    width: 32px;\n",
              "  }\n",
              "\n",
              "  .colab-df-quickchart:hover {\n",
              "    background-color: var(--hover-bg-color);\n",
              "    box-shadow: 0 1px 2px rgba(60, 64, 67, 0.3), 0 1px 3px 1px rgba(60, 64, 67, 0.15);\n",
              "    fill: var(--button-hover-fill-color);\n",
              "  }\n",
              "\n",
              "  .colab-df-quickchart-complete:disabled,\n",
              "  .colab-df-quickchart-complete:disabled:hover {\n",
              "    background-color: var(--disabled-bg-color);\n",
              "    fill: var(--disabled-fill-color);\n",
              "    box-shadow: none;\n",
              "  }\n",
              "\n",
              "  .colab-df-spinner {\n",
              "    border: 2px solid var(--fill-color);\n",
              "    border-color: transparent;\n",
              "    border-bottom-color: var(--fill-color);\n",
              "    animation:\n",
              "      spin 1s steps(1) infinite;\n",
              "  }\n",
              "\n",
              "  @keyframes spin {\n",
              "    0% {\n",
              "      border-color: transparent;\n",
              "      border-bottom-color: var(--fill-color);\n",
              "      border-left-color: var(--fill-color);\n",
              "    }\n",
              "    20% {\n",
              "      border-color: transparent;\n",
              "      border-left-color: var(--fill-color);\n",
              "      border-top-color: var(--fill-color);\n",
              "    }\n",
              "    30% {\n",
              "      border-color: transparent;\n",
              "      border-left-color: var(--fill-color);\n",
              "      border-top-color: var(--fill-color);\n",
              "      border-right-color: var(--fill-color);\n",
              "    }\n",
              "    40% {\n",
              "      border-color: transparent;\n",
              "      border-right-color: var(--fill-color);\n",
              "      border-top-color: var(--fill-color);\n",
              "    }\n",
              "    60% {\n",
              "      border-color: transparent;\n",
              "      border-right-color: var(--fill-color);\n",
              "    }\n",
              "    80% {\n",
              "      border-color: transparent;\n",
              "      border-right-color: var(--fill-color);\n",
              "      border-bottom-color: var(--fill-color);\n",
              "    }\n",
              "    90% {\n",
              "      border-color: transparent;\n",
              "      border-bottom-color: var(--fill-color);\n",
              "    }\n",
              "  }\n",
              "</style>\n",
              "\n",
              "  <script>\n",
              "    async function quickchart(key) {\n",
              "      const quickchartButtonEl =\n",
              "        document.querySelector('#' + key + ' button');\n",
              "      quickchartButtonEl.disabled = true;  // To prevent multiple clicks.\n",
              "      quickchartButtonEl.classList.add('colab-df-spinner');\n",
              "      try {\n",
              "        const charts = await google.colab.kernel.invokeFunction(\n",
              "            'suggestCharts', [key], {});\n",
              "      } catch (error) {\n",
              "        console.error('Error during call to suggestCharts:', error);\n",
              "      }\n",
              "      quickchartButtonEl.classList.remove('colab-df-spinner');\n",
              "      quickchartButtonEl.classList.add('colab-df-quickchart-complete');\n",
              "    }\n",
              "    (() => {\n",
              "      let quickchartButtonEl =\n",
              "        document.querySelector('#df-c91afc8d-e156-4515-bc24-3f37aac58adf button');\n",
              "      quickchartButtonEl.style.display =\n",
              "        google.colab.kernel.accessAllowed ? 'block' : 'none';\n",
              "    })();\n",
              "  </script>\n",
              "</div>\n",
              "\n",
              "    </div>\n",
              "  </div>\n"
            ],
            "application/vnd.google.colaboratory.intrinsic+json": {
              "type": "dataframe",
              "variable_name": "df",
              "summary": "{\n  \"name\": \"df\",\n  \"rows\": 5000,\n  \"fields\": [\n    {\n      \"column\": \"review\",\n      \"properties\": {\n        \"dtype\": \"string\",\n        \"samples\": [\n          \"What is the most harrowing movie ever made? The gynaecological nightmare of 'Cries and Whispers'? The acid psychodramas of Fassbinder? The discomfiting black comedy of 'Last House on the left? I'm sure for that portion of the film-loving public that tie their masts to the good ship Buster Keaton, there is only one answer - any one of his sound films. I don't know what flayed my soul more poignantly in this movie - the grounding of Keaton's intricate and expansive physical art to humdrum slapstick; the painful hesitation of this master filmmaker with dialogue - not that he hasn't a lovely, comic voice, or that he can't make dialogue funny; it's just that the studio don't seem to have given him enough takes, and so he seems to be trying to remember his lines before he delivers, which only makes him - Keaton, not his character, look silly; or is it the humiliation of seeing Keaton caught up in a tawdry sex farce, when he has given us some of the richest accounts of romantic frustration in film? No, I know what was most disturbing - having to watch Buster Keaton, cinema's greatest comedian, sit aside to observe Jimmy Durante doing his schtick. It is horrors such as this that get yer Dantes composing yer Infernos. MGM seem to have got the curious idea that the best way to adapt Keaton to sound was to turn him into a Marx Brother, complete with verbal pedantry, elaborate, tedious 'clowning', shambolic slapstick, theatrical setting, triumph through chaos, and Thelma Todd. Keaton was just not that sort of comic, and where Groucho's malicious tongue and gleeful opportunism might just have made this plot work, Buster's socially inept professor can't, he is too studied and predictable. What Buster needed was to be allowed experiment like Lang in 'M', or Rene Clair; he would never have tried to hold back the tide like Chaplin. When a film like 'The General' is alluded to - messing about with trains - the loss becomes even more apparent. And the thing is, in patches amid the flat direction, the film isn't all that bad - there is an excellent jolt when a camera on the bus leaves Keaton alone at a railway station; and the denouement, if hardly original, is at least livelier than what went before. There is something almost endearing about the way Keaton slows down a plot that needs all the zip it can get. There is a film in here about loneliness, emotionally paralysing order, the numbing effects of education etc., struggling to get out. The best way to appreciate this film is to watch not the narrative of Professor TZ Post, but of emasculated genius Buster Keaton, trapped in a prison of mediocrity, confounded by new technology, mocked by a malevolent fate (in this case the studio), retaining a stoical grace. Looked at like that, it becomes a kind of masterpiece.\",\n          \"This movie was horrendous... It had absolutely nothing to do with Dark Harvest. And the DVD was very misleading because it showed a scarecrow and a scythe, neither of which appeared in this movie. The beginning was a jumble of random scenes that, most of which, had nothing to do with the movie, except that they sort of show that the man is psychic... but not too well... After the first 10 minutes of the movie there is an hour of just the man character looking for his daughters. It gets vaguely interesting when the daughters meet two girls who died the year before. But that's the extent of it. And why, might i ask, was this movie rated R? There were two drops of blood and 4 curse words. And how on earth did it get into a video store?? This movie was poorly acted, poorly filmed, poorly written, and overall horribly executed.\",\n          \"I was just looking at the 100 bottom movies according to IMDb users seeing if there was anything to review that I haven't yet and I found this little screen gem. One of those occasions when you see a movie ranked as one of the worst and you just have to be one of the few that actually likes it. Darn, well I guess I will get ridiculed and spat upon here, but for me this was a pretty good flick when I saw it. It has been awhile however, I remember it used to come on HBO late at night and I watched it two or three times and I haven't seen it really since and I would love to watch it again now knowing Jolie was in it. The story follows a cyborg and a guy trying to escape the clutches of this corporation and some bounty hunters after them. I think that is basically all there is to it, throw in a few scenes with Jack Palance and we have our movie. Some good action here and there, and some blood and violence as well. There is also a love story at play as well as the female cyborg and the guy who trained her to fight kind of fall in love with each other. The dialog sometimes becomes rather bad at times and it is by far not a top notch film, but for a b-movie it is really good. I don't know if it was a theatrical release though because it does not seem high quality enough for that, but it does make for one of the better direct to videos if it was one of those.\"\n        ],\n        \"num_unique_values\": 5000,\n        \"semantic_type\": \"\",\n        \"description\": \"\"\n      }\n    },\n    {\n      \"column\": \"sentiment\",\n      \"properties\": {\n        \"dtype\": \"number\",\n        \"std\": 0,\n        \"min\": 0,\n        \"max\": 1,\n        \"samples\": [\n          1,\n          0\n        ],\n        \"num_unique_values\": 2,\n        \"semantic_type\": \"\",\n        \"description\": \"\"\n      }\n    }\n  ]\n}"
            }
          },
          "metadata": {},
          "execution_count": 9
        }
      ]
    },
    {
      "cell_type": "markdown",
      "id": "16d1dcf4-893d-4ef6-86e0-313ced9ab2dc",
      "metadata": {
        "id": "16d1dcf4-893d-4ef6-86e0-313ced9ab2dc"
      },
      "source": [
        "### Prepare data"
      ]
    },
    {
      "cell_type": "markdown",
      "id": "ff8a3d74-3df8-4d89-b8a8-391e7eb4dc77",
      "metadata": {
        "id": "ff8a3d74-3df8-4d89-b8a8-391e7eb4dc77"
      },
      "source": [
        "#### Create function to lowercase, remove punctuation, tokenize, remove stopwords, and lemmatize"
      ]
    },
    {
      "cell_type": "code",
      "execution_count": 10,
      "id": "2e81cd77-e942-46bd-b486-35e4dc96c00f",
      "metadata": {
        "id": "2e81cd77-e942-46bd-b486-35e4dc96c00f"
      },
      "outputs": [],
      "source": [
        "lem = WordNetLemmatizer()"
      ]
    },
    {
      "cell_type": "code",
      "source": [
        "def clean_text(text):\n",
        "  punct = string.punctuation\n",
        "  stop = stopwords.words('english')\n",
        "  text = \"\".join([word.lower() for word in text if word not in punct])\n",
        "  tokens = re.split('\\W+', text)\n",
        "  text = [lem.lemmatize(word) for word in tokens if word not in stop]\n",
        "  text_2 = ' '.join(word for word in text)\n",
        "  return text_2"
      ],
      "metadata": {
        "id": "AHV99We6fsdM"
      },
      "id": "AHV99We6fsdM",
      "execution_count": 11,
      "outputs": []
    },
    {
      "cell_type": "code",
      "execution_count": 12,
      "id": "73d6d6d3-9011-4295-ba2d-e9549a48070a",
      "metadata": {
        "id": "73d6d6d3-9011-4295-ba2d-e9549a48070a",
        "colab": {
          "base_uri": "https://localhost:8080/"
        },
        "outputId": "f6d514d2-4b10-4526-9c0b-a5b97fe95e6a"
      },
      "outputs": [
        {
          "output_type": "stream",
          "name": "stdout",
          "text": [
            "CPU times: user 14.5 s, sys: 349 ms, total: 14.8 s\n",
            "Wall time: 22.6 s\n"
          ]
        }
      ],
      "source": [
        "# Apply function to clean 'review' column\n",
        "%%time\n",
        "\n",
        "df['review_clean'] = df['review'].apply(clean_text)"
      ]
    },
    {
      "cell_type": "code",
      "execution_count": 13,
      "id": "4d3fbd88-6c36-4b45-ac1f-487429ae03c1",
      "metadata": {
        "id": "4d3fbd88-6c36-4b45-ac1f-487429ae03c1",
        "colab": {
          "base_uri": "https://localhost:8080/",
          "height": 650
        },
        "outputId": "48c128ee-e1b3-48fc-9dc4-c75b8ab880a3"
      },
      "outputs": [
        {
          "output_type": "execute_result",
          "data": {
            "text/plain": [
              "                                                                                                                                                                                                                                                                                                                                                                                                                                                                                                                                                                                                                                                                                                                                                                                                                                                                                                                                                                                                                                                                                                                                                                                                                                                                                                                                                                                                                                                                                                                                                                                                                                                                                                                                                                                                                                                                                                                                                                                                                                                                                                                                                        review  \\\n",
              "0                                                                                                                                                                                                                                                                                                                                                                                                                                                                                                                                                                                                                                                                                                                                                                                                                                                                                                                                                                                                                                                                                                                                                                                              Inept, boring, and incoherent supernatural \"thriller\" in which college student Cassie (Melissa Sagemiller) is the constant victim of hallucinations and nightmares after a car accident claims the life of her boyfriend Sean (Casey Affleck). I can't begin to tell you how bad this is...nothing of any importance ever happens nor is there ever any sort of actual entertainment value. I did not like this cast in this particular film - they are all sadly unconvincing (then again, their roles are no good). To promote this as a horror film is a joke. Where are the scares? There's no sense or suspense - there are a few good songs but that's about it. How on Earth did this project get the green light? Writer-director Steve Carpenter has no discernible vision or talent that I can sense. Worst of all, the conclusion really makes the whole movie pointless. The alleged \"killer cut\" that I watched is 86 minutes of pure tedium. 1/10   \n",
              "1  Jimmy Cagney races by your eyes constantly in this story of a stage-producer who is vigorously struggling against the upcoming \"talking\" movies. This story of love, deceit, women and dancing is presented in such a manner that as a viewer you are never treated to a dull moment. The direction of the mass scenes in the rehearsal rooms was enormously well done. The story never really got lost in this frantic pace. Some parts of the material presented here have become a little dated but that doesn't matter because when you look at this in a 1933 time-frame it is fabulous to watch this next to a lot of the other drags of movies that were released during that time. Jimmy Cagney is a sight for sore eyes in this film, never loosing his composure as the ever-working producer of previews made for the movie theaters as intros. In this way he tries to save his ass from going out of business, he was a broadway producer before he started this. Joan Blondell is fabulous as the neglected love-interest, Nan, she gives such a spirited performance that is so unusual for movies of that time, so cool to watch a woman who is portrayed as a strong woman for a change. The only problem I had with the film were the enormous productions at the end. These were magnificent in itself, beautifully choreographed and wonderfully produced, but they just didn't seem to fit in the story. The only link they have to the main story is that Cagney had to put on 3 previews in 3 days to get a contract and that's what he did. I had a hard time believing that this was what the girls had been rehearsing during the entire movie and that these sets could fit in a movie theater. In this way the \"Sitting On A Backyard Fence\" was much more appropriate to the story. The productions at the end seemed to drag this frantically paced story to a halt and that was not a good thing. I was tired after seeing the first Musical sequence and then I realized there were another two coming up. These sequences got a lot a chuckles from the audience as well. All in all a great film with a sour ending. 9/10   \n",
              "\n",
              "   sentiment  \\\n",
              "0          0   \n",
              "1          1   \n",
              "\n",
              "                                                                                                                                                                                                                                                                                                                                                                                                                                                                                                                                                                                                                                                                                                                                                                                                                                                                                                                                                                                                                                                                                                                                                                                                                                                        review_clean  \n",
              "0                                                                                                                                                                                                                                                                                                                                                                                                                                                                                                                                                                                                                                                    inept boring incoherent supernatural thriller college student cassie melissa sagemiller constant victim hallucination nightmare car accident claim life boyfriend sean casey affleck cant begin tell bad isnothing importance ever happens ever sort actual entertainment value like cast particular film sadly unconvincing role good promote horror film joke scare there sense suspense good song thats earth project get green light writerdirector steve carpenter discernible vision talent sense worst conclusion really make whole movie pointless alleged killer cut watched 86 minute pure tedium 110  \n",
              "1  jimmy cagney race eye constantly story stageproducer vigorously struggling upcoming talking movie story love deceit woman dancing presented manner viewer never treated dull moment direction mass scene rehearsal room enormously well done story never really got lost frantic pace part material presented become little dated doesnt matter look 1933 timeframe fabulous watch next lot drag movie released time jimmy cagney sight sore eye film never loosing composure everworking producer preview made movie theater intro way try save as going business broadway producer started joan blondell fabulous neglected loveinterest nan give spirited performance unusual movie time cool watch woman portrayed strong woman change problem film enormous production end magnificent beautifully choreographed wonderfully produced didnt seem fit story link main story cagney put 3 preview 3 day get contract thats hard time believing girl rehearsing entire movie set could fit movie theater way sitting backyard fence much appropriate story production end seemed drag frantically paced story halt good thing tired seeing first musical sequence realized another two coming sequence got lot chuckle audience well great film sour ending 910  "
            ],
            "text/html": [
              "\n",
              "  <div id=\"df-ea0b4193-b919-4552-a117-b42197dee902\" class=\"colab-df-container\">\n",
              "    <div>\n",
              "<style scoped>\n",
              "    .dataframe tbody tr th:only-of-type {\n",
              "        vertical-align: middle;\n",
              "    }\n",
              "\n",
              "    .dataframe tbody tr th {\n",
              "        vertical-align: top;\n",
              "    }\n",
              "\n",
              "    .dataframe thead th {\n",
              "        text-align: right;\n",
              "    }\n",
              "</style>\n",
              "<table border=\"1\" class=\"dataframe\">\n",
              "  <thead>\n",
              "    <tr style=\"text-align: right;\">\n",
              "      <th></th>\n",
              "      <th>review</th>\n",
              "      <th>sentiment</th>\n",
              "      <th>review_clean</th>\n",
              "    </tr>\n",
              "  </thead>\n",
              "  <tbody>\n",
              "    <tr>\n",
              "      <th>0</th>\n",
              "      <td>Inept, boring, and incoherent supernatural \"thriller\" in which college student Cassie (Melissa Sagemiller) is the constant victim of hallucinations and nightmares after a car accident claims the life of her boyfriend Sean (Casey Affleck). I can't begin to tell you how bad this is...nothing of any importance ever happens nor is there ever any sort of actual entertainment value. I did not like this cast in this particular film - they are all sadly unconvincing (then again, their roles are no good). To promote this as a horror film is a joke. Where are the scares? There's no sense or suspense - there are a few good songs but that's about it. How on Earth did this project get the green light? Writer-director Steve Carpenter has no discernible vision or talent that I can sense. Worst of all, the conclusion really makes the whole movie pointless. The alleged \"killer cut\" that I watched is 86 minutes of pure tedium. 1/10</td>\n",
              "      <td>0</td>\n",
              "      <td>inept boring incoherent supernatural thriller college student cassie melissa sagemiller constant victim hallucination nightmare car accident claim life boyfriend sean casey affleck cant begin tell bad isnothing importance ever happens ever sort actual entertainment value like cast particular film sadly unconvincing role good promote horror film joke scare there sense suspense good song thats earth project get green light writerdirector steve carpenter discernible vision talent sense worst conclusion really make whole movie pointless alleged killer cut watched 86 minute pure tedium 110</td>\n",
              "    </tr>\n",
              "    <tr>\n",
              "      <th>1</th>\n",
              "      <td>Jimmy Cagney races by your eyes constantly in this story of a stage-producer who is vigorously struggling against the upcoming \"talking\" movies. This story of love, deceit, women and dancing is presented in such a manner that as a viewer you are never treated to a dull moment. The direction of the mass scenes in the rehearsal rooms was enormously well done. The story never really got lost in this frantic pace. Some parts of the material presented here have become a little dated but that doesn't matter because when you look at this in a 1933 time-frame it is fabulous to watch this next to a lot of the other drags of movies that were released during that time. Jimmy Cagney is a sight for sore eyes in this film, never loosing his composure as the ever-working producer of previews made for the movie theaters as intros. In this way he tries to save his ass from going out of business, he was a broadway producer before he started this. Joan Blondell is fabulous as the neglected love-interest, Nan, she gives such a spirited performance that is so unusual for movies of that time, so cool to watch a woman who is portrayed as a strong woman for a change. The only problem I had with the film were the enormous productions at the end. These were magnificent in itself, beautifully choreographed and wonderfully produced, but they just didn't seem to fit in the story. The only link they have to the main story is that Cagney had to put on 3 previews in 3 days to get a contract and that's what he did. I had a hard time believing that this was what the girls had been rehearsing during the entire movie and that these sets could fit in a movie theater. In this way the \"Sitting On A Backyard Fence\" was much more appropriate to the story. The productions at the end seemed to drag this frantically paced story to a halt and that was not a good thing. I was tired after seeing the first Musical sequence and then I realized there were another two coming up. These sequences got a lot a chuckles from the audience as well. All in all a great film with a sour ending. 9/10</td>\n",
              "      <td>1</td>\n",
              "      <td>jimmy cagney race eye constantly story stageproducer vigorously struggling upcoming talking movie story love deceit woman dancing presented manner viewer never treated dull moment direction mass scene rehearsal room enormously well done story never really got lost frantic pace part material presented become little dated doesnt matter look 1933 timeframe fabulous watch next lot drag movie released time jimmy cagney sight sore eye film never loosing composure everworking producer preview made movie theater intro way try save as going business broadway producer started joan blondell fabulous neglected loveinterest nan give spirited performance unusual movie time cool watch woman portrayed strong woman change problem film enormous production end magnificent beautifully choreographed wonderfully produced didnt seem fit story link main story cagney put 3 preview 3 day get contract thats hard time believing girl rehearsing entire movie set could fit movie theater way sitting backyard fence much appropriate story production end seemed drag frantically paced story halt good thing tired seeing first musical sequence realized another two coming sequence got lot chuckle audience well great film sour ending 910</td>\n",
              "    </tr>\n",
              "  </tbody>\n",
              "</table>\n",
              "</div>\n",
              "    <div class=\"colab-df-buttons\">\n",
              "\n",
              "  <div class=\"colab-df-container\">\n",
              "    <button class=\"colab-df-convert\" onclick=\"convertToInteractive('df-ea0b4193-b919-4552-a117-b42197dee902')\"\n",
              "            title=\"Convert this dataframe to an interactive table.\"\n",
              "            style=\"display:none;\">\n",
              "\n",
              "  <svg xmlns=\"http://www.w3.org/2000/svg\" height=\"24px\" viewBox=\"0 -960 960 960\">\n",
              "    <path d=\"M120-120v-720h720v720H120Zm60-500h600v-160H180v160Zm220 220h160v-160H400v160Zm0 220h160v-160H400v160ZM180-400h160v-160H180v160Zm440 0h160v-160H620v160ZM180-180h160v-160H180v160Zm440 0h160v-160H620v160Z\"/>\n",
              "  </svg>\n",
              "    </button>\n",
              "\n",
              "  <style>\n",
              "    .colab-df-container {\n",
              "      display:flex;\n",
              "      gap: 12px;\n",
              "    }\n",
              "\n",
              "    .colab-df-convert {\n",
              "      background-color: #E8F0FE;\n",
              "      border: none;\n",
              "      border-radius: 50%;\n",
              "      cursor: pointer;\n",
              "      display: none;\n",
              "      fill: #1967D2;\n",
              "      height: 32px;\n",
              "      padding: 0 0 0 0;\n",
              "      width: 32px;\n",
              "    }\n",
              "\n",
              "    .colab-df-convert:hover {\n",
              "      background-color: #E2EBFA;\n",
              "      box-shadow: 0px 1px 2px rgba(60, 64, 67, 0.3), 0px 1px 3px 1px rgba(60, 64, 67, 0.15);\n",
              "      fill: #174EA6;\n",
              "    }\n",
              "\n",
              "    .colab-df-buttons div {\n",
              "      margin-bottom: 4px;\n",
              "    }\n",
              "\n",
              "    [theme=dark] .colab-df-convert {\n",
              "      background-color: #3B4455;\n",
              "      fill: #D2E3FC;\n",
              "    }\n",
              "\n",
              "    [theme=dark] .colab-df-convert:hover {\n",
              "      background-color: #434B5C;\n",
              "      box-shadow: 0px 1px 3px 1px rgba(0, 0, 0, 0.15);\n",
              "      filter: drop-shadow(0px 1px 2px rgba(0, 0, 0, 0.3));\n",
              "      fill: #FFFFFF;\n",
              "    }\n",
              "  </style>\n",
              "\n",
              "    <script>\n",
              "      const buttonEl =\n",
              "        document.querySelector('#df-ea0b4193-b919-4552-a117-b42197dee902 button.colab-df-convert');\n",
              "      buttonEl.style.display =\n",
              "        google.colab.kernel.accessAllowed ? 'block' : 'none';\n",
              "\n",
              "      async function convertToInteractive(key) {\n",
              "        const element = document.querySelector('#df-ea0b4193-b919-4552-a117-b42197dee902');\n",
              "        const dataTable =\n",
              "          await google.colab.kernel.invokeFunction('convertToInteractive',\n",
              "                                                    [key], {});\n",
              "        if (!dataTable) return;\n",
              "\n",
              "        const docLinkHtml = 'Like what you see? Visit the ' +\n",
              "          '<a target=\"_blank\" href=https://colab.research.google.com/notebooks/data_table.ipynb>data table notebook</a>'\n",
              "          + ' to learn more about interactive tables.';\n",
              "        element.innerHTML = '';\n",
              "        dataTable['output_type'] = 'display_data';\n",
              "        await google.colab.output.renderOutput(dataTable, element);\n",
              "        const docLink = document.createElement('div');\n",
              "        docLink.innerHTML = docLinkHtml;\n",
              "        element.appendChild(docLink);\n",
              "      }\n",
              "    </script>\n",
              "  </div>\n",
              "\n",
              "\n",
              "<div id=\"df-0f458840-b432-466b-830d-ffd46c0852e1\">\n",
              "  <button class=\"colab-df-quickchart\" onclick=\"quickchart('df-0f458840-b432-466b-830d-ffd46c0852e1')\"\n",
              "            title=\"Suggest charts\"\n",
              "            style=\"display:none;\">\n",
              "\n",
              "<svg xmlns=\"http://www.w3.org/2000/svg\" height=\"24px\"viewBox=\"0 0 24 24\"\n",
              "     width=\"24px\">\n",
              "    <g>\n",
              "        <path d=\"M19 3H5c-1.1 0-2 .9-2 2v14c0 1.1.9 2 2 2h14c1.1 0 2-.9 2-2V5c0-1.1-.9-2-2-2zM9 17H7v-7h2v7zm4 0h-2V7h2v10zm4 0h-2v-4h2v4z\"/>\n",
              "    </g>\n",
              "</svg>\n",
              "  </button>\n",
              "\n",
              "<style>\n",
              "  .colab-df-quickchart {\n",
              "      --bg-color: #E8F0FE;\n",
              "      --fill-color: #1967D2;\n",
              "      --hover-bg-color: #E2EBFA;\n",
              "      --hover-fill-color: #174EA6;\n",
              "      --disabled-fill-color: #AAA;\n",
              "      --disabled-bg-color: #DDD;\n",
              "  }\n",
              "\n",
              "  [theme=dark] .colab-df-quickchart {\n",
              "      --bg-color: #3B4455;\n",
              "      --fill-color: #D2E3FC;\n",
              "      --hover-bg-color: #434B5C;\n",
              "      --hover-fill-color: #FFFFFF;\n",
              "      --disabled-bg-color: #3B4455;\n",
              "      --disabled-fill-color: #666;\n",
              "  }\n",
              "\n",
              "  .colab-df-quickchart {\n",
              "    background-color: var(--bg-color);\n",
              "    border: none;\n",
              "    border-radius: 50%;\n",
              "    cursor: pointer;\n",
              "    display: none;\n",
              "    fill: var(--fill-color);\n",
              "    height: 32px;\n",
              "    padding: 0;\n",
              "    width: 32px;\n",
              "  }\n",
              "\n",
              "  .colab-df-quickchart:hover {\n",
              "    background-color: var(--hover-bg-color);\n",
              "    box-shadow: 0 1px 2px rgba(60, 64, 67, 0.3), 0 1px 3px 1px rgba(60, 64, 67, 0.15);\n",
              "    fill: var(--button-hover-fill-color);\n",
              "  }\n",
              "\n",
              "  .colab-df-quickchart-complete:disabled,\n",
              "  .colab-df-quickchart-complete:disabled:hover {\n",
              "    background-color: var(--disabled-bg-color);\n",
              "    fill: var(--disabled-fill-color);\n",
              "    box-shadow: none;\n",
              "  }\n",
              "\n",
              "  .colab-df-spinner {\n",
              "    border: 2px solid var(--fill-color);\n",
              "    border-color: transparent;\n",
              "    border-bottom-color: var(--fill-color);\n",
              "    animation:\n",
              "      spin 1s steps(1) infinite;\n",
              "  }\n",
              "\n",
              "  @keyframes spin {\n",
              "    0% {\n",
              "      border-color: transparent;\n",
              "      border-bottom-color: var(--fill-color);\n",
              "      border-left-color: var(--fill-color);\n",
              "    }\n",
              "    20% {\n",
              "      border-color: transparent;\n",
              "      border-left-color: var(--fill-color);\n",
              "      border-top-color: var(--fill-color);\n",
              "    }\n",
              "    30% {\n",
              "      border-color: transparent;\n",
              "      border-left-color: var(--fill-color);\n",
              "      border-top-color: var(--fill-color);\n",
              "      border-right-color: var(--fill-color);\n",
              "    }\n",
              "    40% {\n",
              "      border-color: transparent;\n",
              "      border-right-color: var(--fill-color);\n",
              "      border-top-color: var(--fill-color);\n",
              "    }\n",
              "    60% {\n",
              "      border-color: transparent;\n",
              "      border-right-color: var(--fill-color);\n",
              "    }\n",
              "    80% {\n",
              "      border-color: transparent;\n",
              "      border-right-color: var(--fill-color);\n",
              "      border-bottom-color: var(--fill-color);\n",
              "    }\n",
              "    90% {\n",
              "      border-color: transparent;\n",
              "      border-bottom-color: var(--fill-color);\n",
              "    }\n",
              "  }\n",
              "</style>\n",
              "\n",
              "  <script>\n",
              "    async function quickchart(key) {\n",
              "      const quickchartButtonEl =\n",
              "        document.querySelector('#' + key + ' button');\n",
              "      quickchartButtonEl.disabled = true;  // To prevent multiple clicks.\n",
              "      quickchartButtonEl.classList.add('colab-df-spinner');\n",
              "      try {\n",
              "        const charts = await google.colab.kernel.invokeFunction(\n",
              "            'suggestCharts', [key], {});\n",
              "      } catch (error) {\n",
              "        console.error('Error during call to suggestCharts:', error);\n",
              "      }\n",
              "      quickchartButtonEl.classList.remove('colab-df-spinner');\n",
              "      quickchartButtonEl.classList.add('colab-df-quickchart-complete');\n",
              "    }\n",
              "    (() => {\n",
              "      let quickchartButtonEl =\n",
              "        document.querySelector('#df-0f458840-b432-466b-830d-ffd46c0852e1 button');\n",
              "      quickchartButtonEl.style.display =\n",
              "        google.colab.kernel.accessAllowed ? 'block' : 'none';\n",
              "    })();\n",
              "  </script>\n",
              "</div>\n",
              "\n",
              "    </div>\n",
              "  </div>\n"
            ],
            "application/vnd.google.colaboratory.intrinsic+json": {
              "type": "dataframe",
              "variable_name": "df",
              "summary": "{\n  \"name\": \"df\",\n  \"rows\": 5000,\n  \"fields\": [\n    {\n      \"column\": \"review\",\n      \"properties\": {\n        \"dtype\": \"string\",\n        \"samples\": [\n          \"What is the most harrowing movie ever made? The gynaecological nightmare of 'Cries and Whispers'? The acid psychodramas of Fassbinder? The discomfiting black comedy of 'Last House on the left? I'm sure for that portion of the film-loving public that tie their masts to the good ship Buster Keaton, there is only one answer - any one of his sound films. I don't know what flayed my soul more poignantly in this movie - the grounding of Keaton's intricate and expansive physical art to humdrum slapstick; the painful hesitation of this master filmmaker with dialogue - not that he hasn't a lovely, comic voice, or that he can't make dialogue funny; it's just that the studio don't seem to have given him enough takes, and so he seems to be trying to remember his lines before he delivers, which only makes him - Keaton, not his character, look silly; or is it the humiliation of seeing Keaton caught up in a tawdry sex farce, when he has given us some of the richest accounts of romantic frustration in film? No, I know what was most disturbing - having to watch Buster Keaton, cinema's greatest comedian, sit aside to observe Jimmy Durante doing his schtick. It is horrors such as this that get yer Dantes composing yer Infernos. MGM seem to have got the curious idea that the best way to adapt Keaton to sound was to turn him into a Marx Brother, complete with verbal pedantry, elaborate, tedious 'clowning', shambolic slapstick, theatrical setting, triumph through chaos, and Thelma Todd. Keaton was just not that sort of comic, and where Groucho's malicious tongue and gleeful opportunism might just have made this plot work, Buster's socially inept professor can't, he is too studied and predictable. What Buster needed was to be allowed experiment like Lang in 'M', or Rene Clair; he would never have tried to hold back the tide like Chaplin. When a film like 'The General' is alluded to - messing about with trains - the loss becomes even more apparent. And the thing is, in patches amid the flat direction, the film isn't all that bad - there is an excellent jolt when a camera on the bus leaves Keaton alone at a railway station; and the denouement, if hardly original, is at least livelier than what went before. There is something almost endearing about the way Keaton slows down a plot that needs all the zip it can get. There is a film in here about loneliness, emotionally paralysing order, the numbing effects of education etc., struggling to get out. The best way to appreciate this film is to watch not the narrative of Professor TZ Post, but of emasculated genius Buster Keaton, trapped in a prison of mediocrity, confounded by new technology, mocked by a malevolent fate (in this case the studio), retaining a stoical grace. Looked at like that, it becomes a kind of masterpiece.\",\n          \"This movie was horrendous... It had absolutely nothing to do with Dark Harvest. And the DVD was very misleading because it showed a scarecrow and a scythe, neither of which appeared in this movie. The beginning was a jumble of random scenes that, most of which, had nothing to do with the movie, except that they sort of show that the man is psychic... but not too well... After the first 10 minutes of the movie there is an hour of just the man character looking for his daughters. It gets vaguely interesting when the daughters meet two girls who died the year before. But that's the extent of it. And why, might i ask, was this movie rated R? There were two drops of blood and 4 curse words. And how on earth did it get into a video store?? This movie was poorly acted, poorly filmed, poorly written, and overall horribly executed.\",\n          \"I was just looking at the 100 bottom movies according to IMDb users seeing if there was anything to review that I haven't yet and I found this little screen gem. One of those occasions when you see a movie ranked as one of the worst and you just have to be one of the few that actually likes it. Darn, well I guess I will get ridiculed and spat upon here, but for me this was a pretty good flick when I saw it. It has been awhile however, I remember it used to come on HBO late at night and I watched it two or three times and I haven't seen it really since and I would love to watch it again now knowing Jolie was in it. The story follows a cyborg and a guy trying to escape the clutches of this corporation and some bounty hunters after them. I think that is basically all there is to it, throw in a few scenes with Jack Palance and we have our movie. Some good action here and there, and some blood and violence as well. There is also a love story at play as well as the female cyborg and the guy who trained her to fight kind of fall in love with each other. The dialog sometimes becomes rather bad at times and it is by far not a top notch film, but for a b-movie it is really good. I don't know if it was a theatrical release though because it does not seem high quality enough for that, but it does make for one of the better direct to videos if it was one of those.\"\n        ],\n        \"num_unique_values\": 5000,\n        \"semantic_type\": \"\",\n        \"description\": \"\"\n      }\n    },\n    {\n      \"column\": \"sentiment\",\n      \"properties\": {\n        \"dtype\": \"number\",\n        \"std\": 0,\n        \"min\": 0,\n        \"max\": 1,\n        \"samples\": [\n          1,\n          0\n        ],\n        \"num_unique_values\": 2,\n        \"semantic_type\": \"\",\n        \"description\": \"\"\n      }\n    },\n    {\n      \"column\": \"review_clean\",\n      \"properties\": {\n        \"dtype\": \"string\",\n        \"samples\": [\n          \"forced read sappy love story german 24 year old pow 12 year old jew political correctness written kind like movie spirit horse want free evil american wont let need well good news american evil german soldier summer book horse given u god american needed horse darn well use sense german trying kill american bookmovie make seem ok casting absolutely awful girl hispanic mother white dad probubly mostly white descent little sister shirley templish acting pretty bad serious part become comedy conclusonbad movie bad book different ending dont read see either one\",\n          \"jack black usually make snicker simply breathing movie besides direction writing lack plot constant mugging aided abetted constant straighton camera shot 050 joke batting average still utter waste time idea sound promising potential get wasted utter lack comedy worst direction ive seen side youtube kept hearing film portrayed mexican negatively thats doubt true really dont think movie meant racist think thats result creative team desperately trying find something funny mess almost hear cry behind camera hey look ugly mexican laugh people please love thing tenacious laugh put racism charge aside get anyone plunked good money time watch pile leftover refried bean offended imo\"\n        ],\n        \"num_unique_values\": 4999,\n        \"semantic_type\": \"\",\n        \"description\": \"\"\n      }\n    }\n  ]\n}"
            }
          },
          "metadata": {},
          "execution_count": 13
        }
      ],
      "source": [
        "# Display first few rows of updated dataframe\n",
        "df.head(2)"
      ]
    },
    {
      "cell_type": "markdown",
      "id": "237510f6-262f-42f5-91c0-c21d8b783fd0",
      "metadata": {
        "id": "237510f6-262f-42f5-91c0-c21d8b783fd0"
      },
      "source": [
        "### Separate independent and dependent variables\n"
      ]
    },
    {
      "cell_type": "code",
      "execution_count": 14,
      "id": "bc5ba33c-bea9-49eb-93be-01863b946052",
      "metadata": {
        "id": "bc5ba33c-bea9-49eb-93be-01863b946052"
      },
      "outputs": [],
      "source": [
        "X = df.drop(\"sentiment\", axis = 1)\n",
        "y = df[\"sentiment\"]"
      ]
    },
    {
      "cell_type": "markdown",
      "source": [
        "#### Vectorize independent variables using TF-IDF vectorizer"
      ],
      "metadata": {
        "id": "1cKSBFfKUIKd"
      },
      "id": "1cKSBFfKUIKd"
    },
    {
      "cell_type": "code",
      "execution_count": 15,
      "id": "1b565657-c062-469e-8256-2340a34f70bc",
      "metadata": {
        "id": "1b565657-c062-469e-8256-2340a34f70bc",
        "colab": {
          "base_uri": "https://localhost:8080/"
        },
        "outputId": "c4f1bace-4773-4a61-cb43-281c870f62e8"
      },
      "outputs": [
        {
          "output_type": "stream",
          "name": "stdout",
          "text": [
            "CPU times: user 6.12 s, sys: 299 ms, total: 6.42 s\n",
            "Wall time: 7.5 s\n"
          ]
        }
      ],
      "source": [
        "%%time\n",
        "\n",
        "vectorizer = TfidfVectorizer(max_features = 10000, ngram_range=(1, 3), stop_words='english')\n",
        "tfidf_matrix = vectorizer.fit_transform(df['review'])"
      ]
    },
    {
      "cell_type": "code",
      "source": [
        "tfidf_matrix.shape"
      ],
      "metadata": {
        "colab": {
          "base_uri": "https://localhost:8080/"
        },
        "id": "3qBOs_o2lX3x",
        "outputId": "bc88bcbc-72bb-485a-a486-495330852b3c"
      },
      "id": "3qBOs_o2lX3x",
      "execution_count": 16,
      "outputs": [
        {
          "output_type": "execute_result",
          "data": {
            "text/plain": [
              "(5000, 10000)"
            ]
          },
          "metadata": {},
          "execution_count": 16
        }
      ]
    },
    {
      "cell_type": "code",
      "source": [
        "tfidf_matrix"
      ],
      "metadata": {
        "colab": {
          "base_uri": "https://localhost:8080/"
        },
        "id": "mvkdrnTFlYpC",
        "outputId": "68e8225c-2689-4a07-d865-1a24409ff23b"
      },
      "id": "mvkdrnTFlYpC",
      "execution_count": 17,
      "outputs": [
        {
          "output_type": "execute_result",
          "data": {
            "text/plain": [
              "<5000x10000 sparse matrix of type '<class 'numpy.float64'>'\n",
              "\twith 415445 stored elements in Compressed Sparse Row format>"
            ]
          },
          "metadata": {},
          "execution_count": 17
        }
      ]
    },
    {
      "cell_type": "markdown",
      "source": [
        "### Split data into training and test sets"
      ],
      "metadata": {
        "id": "LcbBQ3xDG8mC"
      },
      "id": "LcbBQ3xDG8mC"
    },
    {
      "cell_type": "code",
      "execution_count": 18,
      "id": "ab4af605-48e4-4373-80f0-2dd8cf514aa1",
      "metadata": {
        "id": "ab4af605-48e4-4373-80f0-2dd8cf514aa1"
      },
      "outputs": [],
      "source": [
        "X_train, X_test, y_train, y_test = train_test_split(tfidf_matrix, y, test_size=0.25, random_state=42)"
      ]
    },
    {
      "cell_type": "markdown",
      "id": "6b247abf-8552-470a-8860-88d006d87940",
      "metadata": {
        "id": "6b247abf-8552-470a-8860-88d006d87940"
      },
      "source": [
        "### Train a classification model"
      ]
    },
    {
      "cell_type": "code",
      "execution_count": 19,
      "id": "df872378-e358-4f3f-a164-8b8579aadd61",
      "metadata": {
        "id": "df872378-e358-4f3f-a164-8b8579aadd61",
        "colab": {
          "base_uri": "https://localhost:8080/",
          "height": 74
        },
        "outputId": "ade571d0-e83e-40be-eb70-d5de32119ea6"
      },
      "outputs": [
        {
          "output_type": "execute_result",
          "data": {
            "text/plain": [
              "RandomForestClassifier(random_state=42)"
            ],
            "text/html": [
              "<style>#sk-container-id-1 {color: black;background-color: white;}#sk-container-id-1 pre{padding: 0;}#sk-container-id-1 div.sk-toggleable {background-color: white;}#sk-container-id-1 label.sk-toggleable__label {cursor: pointer;display: block;width: 100%;margin-bottom: 0;padding: 0.3em;box-sizing: border-box;text-align: center;}#sk-container-id-1 label.sk-toggleable__label-arrow:before {content: \"▸\";float: left;margin-right: 0.25em;color: #696969;}#sk-container-id-1 label.sk-toggleable__label-arrow:hover:before {color: black;}#sk-container-id-1 div.sk-estimator:hover label.sk-toggleable__label-arrow:before {color: black;}#sk-container-id-1 div.sk-toggleable__content {max-height: 0;max-width: 0;overflow: hidden;text-align: left;background-color: #f0f8ff;}#sk-container-id-1 div.sk-toggleable__content pre {margin: 0.2em;color: black;border-radius: 0.25em;background-color: #f0f8ff;}#sk-container-id-1 input.sk-toggleable__control:checked~div.sk-toggleable__content {max-height: 200px;max-width: 100%;overflow: auto;}#sk-container-id-1 input.sk-toggleable__control:checked~label.sk-toggleable__label-arrow:before {content: \"▾\";}#sk-container-id-1 div.sk-estimator input.sk-toggleable__control:checked~label.sk-toggleable__label {background-color: #d4ebff;}#sk-container-id-1 div.sk-label input.sk-toggleable__control:checked~label.sk-toggleable__label {background-color: #d4ebff;}#sk-container-id-1 input.sk-hidden--visually {border: 0;clip: rect(1px 1px 1px 1px);clip: rect(1px, 1px, 1px, 1px);height: 1px;margin: -1px;overflow: hidden;padding: 0;position: absolute;width: 1px;}#sk-container-id-1 div.sk-estimator {font-family: monospace;background-color: #f0f8ff;border: 1px dotted black;border-radius: 0.25em;box-sizing: border-box;margin-bottom: 0.5em;}#sk-container-id-1 div.sk-estimator:hover {background-color: #d4ebff;}#sk-container-id-1 div.sk-parallel-item::after {content: \"\";width: 100%;border-bottom: 1px solid gray;flex-grow: 1;}#sk-container-id-1 div.sk-label:hover label.sk-toggleable__label {background-color: #d4ebff;}#sk-container-id-1 div.sk-serial::before {content: \"\";position: absolute;border-left: 1px solid gray;box-sizing: border-box;top: 0;bottom: 0;left: 50%;z-index: 0;}#sk-container-id-1 div.sk-serial {display: flex;flex-direction: column;align-items: center;background-color: white;padding-right: 0.2em;padding-left: 0.2em;position: relative;}#sk-container-id-1 div.sk-item {position: relative;z-index: 1;}#sk-container-id-1 div.sk-parallel {display: flex;align-items: stretch;justify-content: center;background-color: white;position: relative;}#sk-container-id-1 div.sk-item::before, #sk-container-id-1 div.sk-parallel-item::before {content: \"\";position: absolute;border-left: 1px solid gray;box-sizing: border-box;top: 0;bottom: 0;left: 50%;z-index: -1;}#sk-container-id-1 div.sk-parallel-item {display: flex;flex-direction: column;z-index: 1;position: relative;background-color: white;}#sk-container-id-1 div.sk-parallel-item:first-child::after {align-self: flex-end;width: 50%;}#sk-container-id-1 div.sk-parallel-item:last-child::after {align-self: flex-start;width: 50%;}#sk-container-id-1 div.sk-parallel-item:only-child::after {width: 0;}#sk-container-id-1 div.sk-dashed-wrapped {border: 1px dashed gray;margin: 0 0.4em 0.5em 0.4em;box-sizing: border-box;padding-bottom: 0.4em;background-color: white;}#sk-container-id-1 div.sk-label label {font-family: monospace;font-weight: bold;display: inline-block;line-height: 1.2em;}#sk-container-id-1 div.sk-label-container {text-align: center;}#sk-container-id-1 div.sk-container {/* jupyter's `normalize.less` sets `[hidden] { display: none; }` but bootstrap.min.css set `[hidden] { display: none !important; }` so we also need the `!important` here to be able to override the default hidden behavior on the sphinx rendered scikit-learn.org. See: https://github.com/scikit-learn/scikit-learn/issues/21755 */display: inline-block !important;position: relative;}#sk-container-id-1 div.sk-text-repr-fallback {display: none;}</style><div id=\"sk-container-id-1\" class=\"sk-top-container\"><div class=\"sk-text-repr-fallback\"><pre>RandomForestClassifier(random_state=42)</pre><b>In a Jupyter environment, please rerun this cell to show the HTML representation or trust the notebook. <br />On GitHub, the HTML representation is unable to render, please try loading this page with nbviewer.org.</b></div><div class=\"sk-container\" hidden><div class=\"sk-item\"><div class=\"sk-estimator sk-toggleable\"><input class=\"sk-toggleable__control sk-hidden--visually\" id=\"sk-estimator-id-1\" type=\"checkbox\" checked><label for=\"sk-estimator-id-1\" class=\"sk-toggleable__label sk-toggleable__label-arrow\">RandomForestClassifier</label><div class=\"sk-toggleable__content\"><pre>RandomForestClassifier(random_state=42)</pre></div></div></div></div></div>"
            ]
          },
          "metadata": {},
          "execution_count": 19
        }
      ],
      "source": [
        "RF_model = RandomForestClassifier(random_state=42)\n",
        "RF_model.fit(X_train, y_train)"
      ]
    },
    {
      "cell_type": "markdown",
      "id": "75d590b2-6956-4e18-857b-8a01ee835c49",
      "metadata": {
        "id": "75d590b2-6956-4e18-857b-8a01ee835c49"
      },
      "source": [
        "### Calculate and display model performance accuracy"
      ]
    },
    {
      "cell_type": "code",
      "execution_count": 20,
      "id": "3044d635-b3f6-4fa6-93af-54d567b8ae60",
      "metadata": {
        "id": "3044d635-b3f6-4fa6-93af-54d567b8ae60",
        "colab": {
          "base_uri": "https://localhost:8080/"
        },
        "outputId": "01bf814f-6a1a-43e2-bf2c-806c609757fa"
      },
      "outputs": [
        {
          "output_type": "stream",
          "name": "stdout",
          "text": [
            "Random forest accuracy =  83.76 %\n"
          ]
        }
      ],
      "source": [
        "RF_predictions = RF_model.predict(X_test)\n",
        "RF_accuracy = accuracy_score(y_test, RF_predictions)\n",
        "print(\"Random forest accuracy = \", round((RF_accuracy * 100), 5), \"%\")"
      ]
    }
  ],
  "metadata": {
    "kernelspec": {
      "display_name": "Python 3 (ipykernel)",
      "language": "python",
      "name": "python3"
    },
    "language_info": {
      "codemirror_mode": {
        "name": "ipython",
        "version": 3
      },
      "file_extension": ".py",
      "mimetype": "text/x-python",
      "name": "python",
      "nbconvert_exporter": "python",
      "pygments_lexer": "ipython3",
      "version": "3.8.8"
    },
    "colab": {
      "provenance": []
    }
  },
  "nbformat": 4,
  "nbformat_minor": 5
}